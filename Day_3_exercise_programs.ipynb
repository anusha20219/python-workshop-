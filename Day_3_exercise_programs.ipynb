{
  "nbformat": 4,
  "nbformat_minor": 0,
  "metadata": {
    "colab": {
      "name": "Day 3 exercise programs.ipynb",
      "provenance": [],
      "collapsed_sections": [],
      "authorship_tag": "ABX9TyO5/6BrmS45RqLe946deFWq",
      "include_colab_link": true
    },
    "kernelspec": {
      "name": "python3",
      "display_name": "Python 3"
    }
  },
  "cells": [
    {
      "cell_type": "markdown",
      "metadata": {
        "id": "view-in-github",
        "colab_type": "text"
      },
      "source": [
        "<a href=\"https://colab.research.google.com/github/anusha20219/python-workshop-/blob/master/Day_3_exercise_programs.ipynb\" target=\"_parent\"><img src=\"https://colab.research.google.com/assets/colab-badge.svg\" alt=\"Open In Colab\"/></a>"
      ]
    },
    {
      "cell_type": "markdown",
      "metadata": {
        "id": "-5dbKCBrBQTe",
        "colab_type": "text"
      },
      "source": [
        "# Write a Python program to find numbers between 100 and 400 (both included) which are divisable both by 5 or 7. The numbers obtained should be printed in a comma-separated sequence"
      ]
    },
    {
      "cell_type": "code",
      "metadata": {
        "id": "I2f7q0uIBU6N",
        "colab_type": "code",
        "colab": {
          "base_uri": "https://localhost:8080/",
          "height": 35
        },
        "outputId": "729f51d7-8bb3-45c5-ceca-92303b0dd6c8"
      },
      "source": [
        "items = []\n",
        "for i in range(100, 401):\n",
        "    s = str(i)\n",
        "    if (int(s[0])%2==0) and (int(s[1])%2==0) and (int(s[2])%2==0):\n",
        "        items.append(s)\n",
        "print( \",\".join(items))"
      ],
      "execution_count": 2,
      "outputs": [
        {
          "output_type": "stream",
          "text": [
            "200,202,204,206,208,220,222,224,226,228,240,242,244,246,248,260,262,264,266,268,280,282,284,286,288,400\n"
          ],
          "name": "stdout"
        }
      ]
    },
    {
      "cell_type": "markdown",
      "metadata": {
        "id": "Fv5JKDkXBioo",
        "colab_type": "text"
      },
      "source": [
        "# Write a Python program to find  prime numbers between 200 and 600 (both included). The numbers obtained should be printed in a comma-separated sequence"
      ]
    },
    {
      "cell_type": "code",
      "metadata": {
        "id": "7XoPMgiiBQlv",
        "colab_type": "code",
        "colab": {
          "base_uri": "https://localhost:8080/",
          "height": 1000
        },
        "outputId": "83656ff1-3889-4f39-a547-a6a7c9e23781"
      },
      "source": [
        "for num in range(200, 600):\n",
        "    for i in range(2, num):\n",
        "        if num % i == 0:\n",
        "            break\n",
        "        else:\n",
        "            print(num)\n",
        "            break"
      ],
      "execution_count": null,
      "outputs": [
        {
          "output_type": "stream",
          "text": [
            "201\n",
            "203\n",
            "205\n",
            "207\n",
            "209\n",
            "211\n",
            "213\n",
            "215\n",
            "217\n",
            "219\n",
            "221\n",
            "223\n",
            "225\n",
            "227\n",
            "229\n",
            "231\n",
            "233\n",
            "235\n",
            "237\n",
            "239\n",
            "241\n",
            "243\n",
            "245\n",
            "247\n",
            "249\n",
            "251\n",
            "253\n",
            "255\n",
            "257\n",
            "259\n",
            "261\n",
            "263\n",
            "265\n",
            "267\n",
            "269\n",
            "271\n",
            "273\n",
            "275\n",
            "277\n",
            "279\n",
            "281\n",
            "283\n",
            "285\n",
            "287\n",
            "289\n",
            "291\n",
            "293\n",
            "295\n",
            "297\n",
            "299\n",
            "301\n",
            "303\n",
            "305\n",
            "307\n",
            "309\n",
            "311\n",
            "313\n",
            "315\n",
            "317\n",
            "319\n",
            "321\n",
            "323\n",
            "325\n",
            "327\n",
            "329\n",
            "331\n",
            "333\n",
            "335\n",
            "337\n",
            "339\n",
            "341\n",
            "343\n",
            "345\n",
            "347\n",
            "349\n",
            "351\n",
            "353\n",
            "355\n",
            "357\n",
            "359\n",
            "361\n",
            "363\n",
            "365\n",
            "367\n",
            "369\n",
            "371\n",
            "373\n",
            "375\n",
            "377\n",
            "379\n",
            "381\n",
            "383\n",
            "385\n",
            "387\n",
            "389\n",
            "391\n",
            "393\n",
            "395\n",
            "397\n",
            "399\n",
            "401\n",
            "403\n",
            "405\n",
            "407\n",
            "409\n",
            "411\n",
            "413\n",
            "415\n",
            "417\n",
            "419\n",
            "421\n",
            "423\n",
            "425\n",
            "427\n",
            "429\n",
            "431\n",
            "433\n",
            "435\n",
            "437\n",
            "439\n",
            "441\n",
            "443\n",
            "445\n",
            "447\n",
            "449\n",
            "451\n",
            "453\n",
            "455\n",
            "457\n",
            "459\n",
            "461\n",
            "463\n",
            "465\n",
            "467\n",
            "469\n",
            "471\n",
            "473\n",
            "475\n",
            "477\n",
            "479\n",
            "481\n",
            "483\n",
            "485\n",
            "487\n",
            "489\n",
            "491\n",
            "493\n",
            "495\n",
            "497\n",
            "499\n",
            "501\n",
            "503\n",
            "505\n",
            "507\n",
            "509\n",
            "511\n",
            "513\n",
            "515\n",
            "517\n",
            "519\n",
            "521\n",
            "523\n",
            "525\n",
            "527\n",
            "529\n",
            "531\n",
            "533\n",
            "535\n",
            "537\n",
            "539\n",
            "541\n",
            "543\n",
            "545\n",
            "547\n",
            "549\n",
            "551\n",
            "553\n",
            "555\n",
            "557\n",
            "559\n",
            "561\n",
            "563\n",
            "565\n",
            "567\n",
            "569\n",
            "571\n",
            "573\n",
            "575\n",
            "577\n",
            "579\n",
            "581\n",
            "583\n",
            "585\n",
            "587\n",
            "589\n",
            "591\n",
            "593\n",
            "595\n",
            "597\n",
            "599\n"
          ],
          "name": "stdout"
        }
      ]
    },
    {
      "cell_type": "markdown",
      "metadata": {
        "id": "EkH0HFv5B9PT",
        "colab_type": "text"
      },
      "source": [
        "# Write a Python program to find All Numbers which are Odd and Palindromes Between a Range of Numbers without using Recursion. The numbers obtained should be printed in a comma-separated sequence"
      ]
    },
    {
      "cell_type": "code",
      "metadata": {
        "id": "mou8-VPNCGzX",
        "colab_type": "code",
        "colab": {
          "base_uri": "https://localhost:8080/",
          "height": 88
        },
        "outputId": "bdb592a3-e267-4822-fa2d-feb215dc3369"
      },
      "source": [
        "a=[]\n",
        "l=int(input(\"Enter lower limit: \"))\n",
        "u=int(input(\"Enter upper limit: \"))\n",
        "a=[x for x in range(l,u+1) if x%2!=0 and str(x)==str(x)[::-1]]\n",
        "print(\"The numbers are: \",a)"
      ],
      "execution_count": null,
      "outputs": [
        {
          "output_type": "stream",
          "text": [
            "Enter lower limit: 200\n",
            "Enter upper limit: 600\n",
            "The numbers are:  [303, 313, 323, 333, 343, 353, 363, 373, 383, 393, 505, 515, 525, 535, 545, 555, 565, 575, 585, 595]\n"
          ],
          "name": "stdout"
        }
      ]
    },
    {
      "cell_type": "markdown",
      "metadata": {
        "id": "PanZpCznCPvv",
        "colab_type": "text"
      },
      "source": [
        "# Write a Python Program to read a number n and print the series “5+10+…..+n = sum upto n ” . The numbers should be printed  as they are  shown in the quotes with sum of numbers upto n"
      ]
    },
    {
      "cell_type": "code",
      "metadata": {
        "id": "NC_sPuIOCTBE",
        "colab_type": "code",
        "colab": {}
      },
      "source": [
        "num = int(input(\"Enter the value of n: \"))\n",
        "hold = num\n",
        "sum = 0\n",
        " \n",
        "if num <= 0: \n",
        "   print(\"Enter a whole positive number!\") \n",
        "else: \n",
        "   while num > 0:\n",
        "        sum = sum + num\n",
        "        num = num - 1;\n",
        "    # displaying output\n",
        "    print(\"Sum of first\", hold, \"natural numbers is: \", sum)"
      ],
      "execution_count": null,
      "outputs": []
    },
    {
      "cell_type": "markdown",
      "metadata": {
        "id": "qQArqn3zCiPs",
        "colab_type": "text"
      },
      "source": [
        "# Write a Python Program to Print Multiplication Table of a  number which got through keyboard."
      ]
    },
    {
      "cell_type": "code",
      "metadata": {
        "id": "4VPZItJKCkHz",
        "colab_type": "code",
        "colab": {
          "base_uri": "https://localhost:8080/",
          "height": 187
        },
        "outputId": "755914c3-9059-48fb-c008-b740d1f8ab17"
      },
      "source": [
        "num = 12\n",
        " \n",
        "# To take input from the user\n",
        "# num = int(input(\"Display multiplication table of? \"))\n",
        " \n",
        "# Iterate 10 times from i = 1 to 10\n",
        "for i in range(1, 11):\n",
        "   print(num, 'x', i, '=', num*i)"
      ],
      "execution_count": null,
      "outputs": [
        {
          "output_type": "stream",
          "text": [
            "12 x 1 = 12\n",
            "12 x 2 = 24\n",
            "12 x 3 = 36\n",
            "12 x 4 = 48\n",
            "12 x 5 = 60\n",
            "12 x 6 = 72\n",
            "12 x 7 = 84\n",
            "12 x 8 = 96\n",
            "12 x 9 = 108\n",
            "12 x 10 = 120\n"
          ],
          "name": "stdout"
        }
      ]
    },
    {
      "cell_type": "markdown",
      "metadata": {
        "id": "vZ17rTnqDO1p",
        "colab_type": "text"
      },
      "source": [
        "# Write a  Python Program to find the Armstrong Numbers between 1 and 2000 ( i.e 153 is amtrong numbers as 1**3+5**3+3**3=153 )"
      ]
    },
    {
      "cell_type": "code",
      "metadata": {
        "id": "EYd43fEgDUrn",
        "colab_type": "code",
        "colab": {
          "base_uri": "https://localhost:8080/",
          "height": 102
        },
        "outputId": "7044d4c1-ed0f-42a5-8833-5126586ec7a8"
      },
      "source": [
        "lower = 100\n",
        "upper = 2000\n",
        " \n",
        "for num in range(lower, upper + 1):\n",
        " \n",
        "   # order of number\n",
        "   order = len(str(num))\n",
        "    \n",
        "   # initialize sum\n",
        "   sum = 0\n",
        " \n",
        "   temp = num\n",
        "   while temp > 0:\n",
        "       digit = temp % 10\n",
        "       sum += digit ** order\n",
        "       temp //= 10\n",
        " \n",
        "   if num == sum:\n",
        "       print(num)"
      ],
      "execution_count": null,
      "outputs": [
        {
          "output_type": "stream",
          "text": [
            "153\n",
            "370\n",
            "371\n",
            "407\n",
            "1634\n"
          ],
          "name": "stdout"
        }
      ]
    },
    {
      "cell_type": "markdown",
      "metadata": {
        "id": "8bWgBG4nC1YG",
        "colab_type": "text"
      },
      "source": [
        "# Write a python program to get the list of tuples (rollno, name) for n students by getting rollno and name through keyboard. Sort and print  them as rollno wise and name wise both ascending and descending as well as alphabetical and dealphabetical orders"
      ]
    },
    {
      "cell_type": "code",
      "metadata": {
        "id": "Bp-P4ndSC10q",
        "colab_type": "code",
        "colab": {
          "base_uri": "https://localhost:8080/",
          "height": 207
        },
        "outputId": "37057a48-98fe-4056-bbf0-3ca72dd8ee5c"
      },
      "source": [
        "a=[]\n",
        "def inp():\n",
        "  rolno=input(\"enter the rolno\")\n",
        "  name=input(\"enter the name\")\n",
        "  return(rolno,name)\n",
        "n=int(input(\"Enter the value of n\"))\n",
        "for i in range(1,n+1):\n",
        "  a.append(inp())\n",
        "print(a)\n",
        "a.sort(key=lambda i:i[0])\n",
        "print(f'According to Rollno:Ascending order:{a}')\n",
        "print(f'According to Rollno:Descending order:{a[::-1]}')\n",
        "a.sort(key=lambda i:i[1])\n",
        "print(f'According to Name:Alphabeticallyorder:{a}')\n",
        "print(f'According to Name:Dealphabetically order:{a[::-1]}')"
      ],
      "execution_count": null,
      "outputs": [
        {
          "output_type": "stream",
          "text": [
            "Enter the value of n2\n",
            "enter the rolno5\n",
            "enter the nameA\n",
            "enter the rolno2\n",
            "enter the nameB\n",
            "[('5', 'A'), ('2', 'B')]\n",
            "According to Rollno:Ascending order:[('2', 'B'), ('5', 'A')]\n",
            "According to Rollno:Descending order:[('5', 'A'), ('2', 'B')]\n",
            "According to Name:Alphabeticallyorder:[('5', 'A'), ('2', 'B')]\n",
            "According to Name:Dealphabetically order:[('2', 'B'), ('5', 'A')]\n"
          ],
          "name": "stdout"
        }
      ]
    },
    {
      "cell_type": "markdown",
      "metadata": {
        "id": "_3-Zjqi3De2e",
        "colab_type": "text"
      },
      "source": [
        "# Python Program to Detect if Two Strings are Anagrams ( They are  the two strings which have same length and same words which may be different in their order)"
      ]
    },
    {
      "cell_type": "code",
      "metadata": {
        "id": "YM4ALJRvD-dz",
        "colab_type": "code",
        "colab": {
          "base_uri": "https://localhost:8080/",
          "height": 34
        },
        "outputId": "992ae2f7-cdd7-46ea-9f03-792cd3ba4019"
      },
      "source": [
        "def check(s1, s2): \n",
        " \n",
        "      \n",
        " \n",
        "    # the sorted strings are checked  \n",
        " \n",
        "    if(sorted(s1)== sorted(s2)): \n",
        " \n",
        "        print(\"The strings are anagrams.\")  \n",
        " \n",
        "    else: \n",
        " \n",
        "        print(\"The strings aren't anagrams.\")          \n",
        " \n",
        "          \n",
        "# driver code   \n",
        " \n",
        "s1 =\"listen\"\n",
        " \n",
        "s2 =\"silent\" \n",
        "check(s1, s2)"
      ],
      "execution_count": null,
      "outputs": [
        {
          "output_type": "stream",
          "text": [
            "The strings are anagrams.\n"
          ],
          "name": "stdout"
        }
      ]
    }
  ]
}