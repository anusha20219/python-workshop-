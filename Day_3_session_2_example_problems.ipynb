{
  "nbformat": 4,
  "nbformat_minor": 0,
  "metadata": {
    "colab": {
      "name": "Day 3 session 2 example problems.ipynb",
      "provenance": [],
      "collapsed_sections": [],
      "authorship_tag": "ABX9TyOa1xD9lBSpnQVpTb+BETdw",
      "include_colab_link": true
    },
    "kernelspec": {
      "name": "python3",
      "display_name": "Python 3"
    }
  },
  "cells": [
    {
      "cell_type": "markdown",
      "metadata": {
        "id": "view-in-github",
        "colab_type": "text"
      },
      "source": [
        "<a href=\"https://colab.research.google.com/github/anusha20219/python-workshop-/blob/master/Day_3_session_2_example_problems.ipynb\" target=\"_parent\"><img src=\"https://colab.research.google.com/assets/colab-badge.svg\" alt=\"Open In Colab\"/></a>"
      ]
    },
    {
      "cell_type": "markdown",
      "metadata": {
        "id": "Z8nY40s4XNe-",
        "colab_type": "text"
      },
      "source": [
        "# Program for prime number -bad code"
      ]
    },
    {
      "cell_type": "code",
      "metadata": {
        "id": "TQ36ynaQXQKI",
        "colab_type": "code",
        "colab": {
          "base_uri": "https://localhost:8080/",
          "height": 36
        },
        "outputId": "ff5c9afc-29b1-4971-b919-61e980ab0c63"
      },
      "source": [
        "i=25 \n",
        "for x in range(2, i//2+1):\n",
        "      if i%x==0:\n",
        "         print(\"The number {} is not prime\".format(i))\n",
        "         break \n",
        "if x ==i//2:\n",
        "  print (\"{} is a prime number\".format(i))"
      ],
      "execution_count": 2,
      "outputs": [
        {
          "output_type": "stream",
          "text": [
            "The number 25 is not prime\n"
          ],
          "name": "stdout"
        }
      ]
    },
    {
      "cell_type": "markdown",
      "metadata": {
        "id": "cpxxZVtvXVhz",
        "colab_type": "text"
      },
      "source": [
        "# Good code using for... else"
      ]
    },
    {
      "cell_type": "code",
      "metadata": {
        "id": "ZxEqLXtdXZwq",
        "colab_type": "code",
        "colab": {
          "base_uri": "https://localhost:8080/",
          "height": 36
        },
        "outputId": "4ab3c237-5db4-4a54-8e9c-8afa528cf1b4"
      },
      "source": [
        "i=25 \n",
        "for x in range(2, i//2+1):\n",
        "      if i%x==0:\n",
        "         print(\"The number {} is not prime\".format(i))\n",
        "         break \n",
        "else:\n",
        "    print (\"{} is a prime number\".format(i))"
      ],
      "execution_count": 3,
      "outputs": [
        {
          "output_type": "stream",
          "text": [
            "The number 25 is not prime\n"
          ],
          "name": "stdout"
        }
      ]
    },
    {
      "cell_type": "markdown",
      "metadata": {
        "id": "re2tTyQwXe-g",
        "colab_type": "text"
      },
      "source": [
        "# Using Unpacking to Write Concise Code"
      ]
    },
    {
      "cell_type": "code",
      "metadata": {
        "id": "SFJSbobcXkaI",
        "colab_type": "code",
        "colab": {
          "base_uri": "https://localhost:8080/",
          "height": 54
        },
        "outputId": "24806426-c933-4c2c-d59b-f3ab70853ec3"
      },
      "source": [
        "a, b = 2, 'my-string' \n",
        "print(a) \n",
        "print(b)"
      ],
      "execution_count": 4,
      "outputs": [
        {
          "output_type": "stream",
          "text": [
            "2\n",
            "my-string\n"
          ],
          "name": "stdout"
        }
      ]
    },
    {
      "cell_type": "markdown",
      "metadata": {
        "id": "LhVHt-QyXokZ",
        "colab_type": "text"
      },
      "source": [
        "# Bad unpacking"
      ]
    },
    {
      "cell_type": "code",
      "metadata": {
        "id": "2WR-E3NkXr7k",
        "colab_type": "code",
        "colab": {
          "base_uri": "https://localhost:8080/",
          "height": 36
        },
        "outputId": "f09c6b05-f062-4a7f-cc07-21ca6001dd7a"
      },
      "source": [
        "x = (1, 2, 4, 8, 16) \n",
        "a = x[0] \n",
        "b = x[1] \n",
        "c = x[2] \n",
        "d = x[3] \n",
        "e = x[4]\n",
        "print(a, b, c, d, e)"
      ],
      "execution_count": 5,
      "outputs": [
        {
          "output_type": "stream",
          "text": [
            "1 2 4 8 16\n"
          ],
          "name": "stdout"
        }
      ]
    },
    {
      "cell_type": "markdown",
      "metadata": {
        "id": "7Cd-OMdOXxho",
        "colab_type": "text"
      },
      "source": [
        "# Excellent unpacking"
      ]
    },
    {
      "cell_type": "code",
      "metadata": {
        "id": "zKgvGaX5X1Ol",
        "colab_type": "code",
        "colab": {
          "base_uri": "https://localhost:8080/",
          "height": 36
        },
        "outputId": "00398a48-2377-4941-d0b9-26ce09eea8a3"
      },
      "source": [
        "a,b,c,d,e=x \n",
        "print(a, b, c, d, e)"
      ],
      "execution_count": 6,
      "outputs": [
        {
          "output_type": "stream",
          "text": [
            "1 2 4 8 16\n"
          ],
          "name": "stdout"
        }
      ]
    },
    {
      "cell_type": "markdown",
      "metadata": {
        "id": "7H2LfjKKX59Q",
        "colab_type": "text"
      },
      "source": [
        "# unpacking some elements"
      ]
    },
    {
      "cell_type": "code",
      "metadata": {
        "id": "LIKxv5vEYBfi",
        "colab_type": "code",
        "colab": {
          "base_uri": "https://localhost:8080/",
          "height": 73
        },
        "outputId": "adb02236-34a1-42df-ac93-50dfb5f93ce7"
      },
      "source": [
        "a, *y, e = x \n",
        "print(a) \n",
        "print(y) \n",
        "print(e)"
      ],
      "execution_count": 7,
      "outputs": [
        {
          "output_type": "stream",
          "text": [
            "1\n",
            "[2, 4, 8]\n",
            "16\n"
          ],
          "name": "stdout"
        }
      ]
    },
    {
      "cell_type": "markdown",
      "metadata": {
        "id": "3i-r-gdpYCOl",
        "colab_type": "text"
      },
      "source": [
        "# Using Chaining to Write Concise Code"
      ]
    },
    {
      "cell_type": "code",
      "metadata": {
        "id": "3hdNmaCsYHIk",
        "colab_type": "code",
        "colab": {
          "base_uri": "https://localhost:8080/",
          "height": 36
        },
        "outputId": "26495397-ca25-4da1-9bc0-249405af550a"
      },
      "source": [
        "x = 4\n",
        "print(x >= 2 and x <= 8)"
      ],
      "execution_count": 8,
      "outputs": [
        {
          "output_type": "stream",
          "text": [
            "True\n"
          ],
          "name": "stdout"
        }
      ]
    },
    {
      "cell_type": "markdown",
      "metadata": {
        "id": "HgIPJnAIYPKK",
        "colab_type": "text"
      },
      "source": [
        "# Instead, you can write this in a more compact form, like mathematicians do:"
      ]
    },
    {
      "cell_type": "code",
      "metadata": {
        "id": "LCIHD0SMYUgf",
        "colab_type": "code",
        "colab": {
          "base_uri": "https://localhost:8080/",
          "height": 54
        },
        "outputId": "d4dcb6b1-cd48-4942-db5b-52740eb75d1e"
      },
      "source": [
        "print(2 <= x <= 8) \n",
        "print(2 <= x <= 3)"
      ],
      "execution_count": 9,
      "outputs": [
        {
          "output_type": "stream",
          "text": [
            "True\n",
            "False\n"
          ],
          "name": "stdout"
        }
      ]
    },
    {
      "cell_type": "markdown",
      "metadata": {
        "id": "PDPf63kXYX2t",
        "colab_type": "text"
      },
      "source": [
        "# chained assignments"
      ]
    },
    {
      "cell_type": "code",
      "metadata": {
        "id": "kF_WiK2eYa0y",
        "colab_type": "code",
        "colab": {
          "base_uri": "https://localhost:8080/",
          "height": 36
        },
        "outputId": "13d4fe07-3bb8-46d9-fbaa-f51098a63a03"
      },
      "source": [
        "x = y = z = 2\n",
        "x, y, z # when we use , it becomes tuple"
      ],
      "execution_count": 10,
      "outputs": [
        {
          "output_type": "execute_result",
          "data": {
            "text/plain": [
              "(2, 2, 2)"
            ]
          },
          "metadata": {
            "tags": []
          },
          "execution_count": 10
        }
      ]
    },
    {
      "cell_type": "markdown",
      "metadata": {
        "id": "BaGV-trRYe9S",
        "colab_type": "text"
      },
      "source": [
        "# Checking against None"
      ]
    },
    {
      "cell_type": "code",
      "metadata": {
        "id": "pVXWD1ZDYzzN",
        "colab_type": "code",
        "colab": {
          "base_uri": "https://localhost:8080/",
          "height": 92
        },
        "outputId": "b7df07e8-b47e-40f3-f75e-506fa6d6b1ac"
      },
      "source": [
        "# normal way \n",
        "x, y = 2, None \n",
        "print(x == None) \n",
        "print(y == None) \n",
        "print(x != None) \n",
        "print(y != None)"
      ],
      "execution_count": 11,
      "outputs": [
        {
          "output_type": "stream",
          "text": [
            "False\n",
            "True\n",
            "True\n",
            "False\n"
          ],
          "name": "stdout"
        }
      ]
    },
    {
      "cell_type": "markdown",
      "metadata": {
        "id": "8A7E0XhgY3mR",
        "colab_type": "text"
      },
      "source": [
        "# In pythonic way"
      ]
    },
    {
      "cell_type": "code",
      "metadata": {
        "id": "CnFNmItlY8xv",
        "colab_type": "code",
        "colab": {
          "base_uri": "https://localhost:8080/",
          "height": 92
        },
        "outputId": "4ac81c1d-3609-41da-f9f6-c2ca0b4a4d64"
      },
      "source": [
        "x is None  \n",
        "print(x is None) \n",
        "print(y is None) \n",
        "print(x is not None) \n",
        "print(y is not None)"
      ],
      "execution_count": 13,
      "outputs": [
        {
          "output_type": "stream",
          "text": [
            "False\n",
            "True\n",
            "True\n",
            "False\n"
          ],
          "name": "stdout"
        }
      ]
    },
    {
      "cell_type": "markdown",
      "metadata": {
        "id": "yfsbfArwZAOS",
        "colab_type": "text"
      },
      "source": [
        "# Iterating over Sequences"
      ]
    },
    {
      "cell_type": "code",
      "metadata": {
        "id": "SnXZG0v6ZEJu",
        "colab_type": "code",
        "colab": {
          "base_uri": "https://localhost:8080/",
          "height": 111
        },
        "outputId": "ec97d9c3-633f-45da-a766-8239840ba8b8"
      },
      "source": [
        "x = [1, 2, 4, 8, 16] \n",
        "for i in range(len(x)):\n",
        "  print(x[i])"
      ],
      "execution_count": 14,
      "outputs": [
        {
          "output_type": "stream",
          "text": [
            "1\n",
            "2\n",
            "4\n",
            "8\n",
            "16\n"
          ],
          "name": "stdout"
        }
      ]
    },
    {
      "cell_type": "markdown",
      "metadata": {
        "id": "LZZL0Fv0ZIhA",
        "colab_type": "text"
      },
      "source": [
        "# to iterate in the reversed order"
      ]
    },
    {
      "cell_type": "code",
      "metadata": {
        "id": "zqkh9sJrZMs-",
        "colab_type": "code",
        "colab": {
          "base_uri": "https://localhost:8080/",
          "height": 111
        },
        "outputId": "37e46bdb-bdb9-41d5-f32f-546de7da69e1"
      },
      "source": [
        "for i in range(len(x)-1, -1, -1):\n",
        "  print(x[i])"
      ],
      "execution_count": 15,
      "outputs": [
        {
          "output_type": "stream",
          "text": [
            "16\n",
            "8\n",
            "4\n",
            "2\n",
            "1\n"
          ],
          "name": "stdout"
        }
      ]
    },
    {
      "cell_type": "markdown",
      "metadata": {
        "id": "fLRZAyc5ZQjB",
        "colab_type": "text"
      },
      "source": [
        "# The Pythonic way is to use reversed to get an iterator that yields the items of a\n",
        "sequence in the reversed order:"
      ]
    },
    {
      "cell_type": "code",
      "metadata": {
        "id": "Iz0bmiwhZXT7",
        "colab_type": "code",
        "colab": {
          "base_uri": "https://localhost:8080/",
          "height": 111
        },
        "outputId": "eacba205-3b5b-44ce-8caf-d1e88a2de20c"
      },
      "source": [
        "for item in reversed(x):   \n",
        "  print(item)"
      ],
      "execution_count": 16,
      "outputs": [
        {
          "output_type": "stream",
          "text": [
            "16\n",
            "8\n",
            "4\n",
            "2\n",
            "1\n"
          ],
          "name": "stdout"
        }
      ]
    },
    {
      "cell_type": "markdown",
      "metadata": {
        "id": "kjbcmMA0ZaaN",
        "colab_type": "text"
      },
      "source": [
        "# Sometimes you need both the items from a sequence and the corresponding indices:"
      ]
    },
    {
      "cell_type": "code",
      "metadata": {
        "id": "3xBKTzrOZeDs",
        "colab_type": "code",
        "colab": {
          "base_uri": "https://localhost:8080/",
          "height": 111
        },
        "outputId": "ff2f1083-aef5-475c-941c-02dbbdb09145"
      },
      "source": [
        "for i in range(len(x)):\n",
        "  print(i, x[i])"
      ],
      "execution_count": 17,
      "outputs": [
        {
          "output_type": "stream",
          "text": [
            "0 1\n",
            "1 2\n",
            "2 4\n",
            "3 8\n",
            "4 16\n"
          ],
          "name": "stdout"
        }
      ]
    },
    {
      "cell_type": "markdown",
      "metadata": {
        "id": "zfs35b3SZhSE",
        "colab_type": "text"
      },
      "source": [
        "# It’s better to use enumerate to get another iterator that yields the tuples with the indices\n",
        "and items:"
      ]
    },
    {
      "cell_type": "code",
      "metadata": {
        "id": "cVzbNhZdZkgi",
        "colab_type": "code",
        "colab": {
          "base_uri": "https://localhost:8080/",
          "height": 111
        },
        "outputId": "7736e048-42b9-4f8d-b576-35059bedf024"
      },
      "source": [
        " for i, item in enumerate(x):\n",
        "  print(i, item)"
      ],
      "execution_count": 18,
      "outputs": [
        {
          "output_type": "stream",
          "text": [
            "0 1\n",
            "1 2\n",
            "2 4\n",
            "3 8\n",
            "4 16\n"
          ],
          "name": "stdout"
        }
      ]
    },
    {
      "cell_type": "markdown",
      "metadata": {
        "id": "py8FdJgTZodY",
        "colab_type": "text"
      },
      "source": [
        "# what if you want to iterate over two or more sequences? Of course, you can use the\n",
        "range again:"
      ]
    },
    {
      "cell_type": "code",
      "metadata": {
        "id": "sM1eZTUaZtiR",
        "colab_type": "code",
        "colab": {
          "base_uri": "https://localhost:8080/",
          "height": 111
        },
        "outputId": "f3078ed1-50dc-407b-9d7f-7050982aa14b"
      },
      "source": [
        "y   = 'abcde' \n",
        "for i in range(len(x)):   \n",
        "  print(x[i], y[i])"
      ],
      "execution_count": 19,
      "outputs": [
        {
          "output_type": "stream",
          "text": [
            "1 a\n",
            "2 b\n",
            "4 c\n",
            "8 d\n",
            "16 e\n"
          ],
          "name": "stdout"
        }
      ]
    },
    {
      "cell_type": "markdown",
      "metadata": {
        "id": "i-lFcJRIZ35a",
        "colab_type": "text"
      },
      "source": [
        "# In this case, Python also offers a better solution. You can apply zip and get tuples of the\n",
        "corresponding items:"
      ]
    },
    {
      "cell_type": "code",
      "metadata": {
        "id": "hbeZ9a3dZ7qm",
        "colab_type": "code",
        "colab": {
          "base_uri": "https://localhost:8080/",
          "height": 111
        },
        "outputId": "810ccb00-ec70-45f4-8810-d5bcd760feb2"
      },
      "source": [
        "for item in zip(x, y):   \n",
        "  print(item)"
      ],
      "execution_count": 20,
      "outputs": [
        {
          "output_type": "stream",
          "text": [
            "(1, 'a')\n",
            "(2, 'b')\n",
            "(4, 'c')\n",
            "(8, 'd')\n",
            "(16, 'e')\n"
          ],
          "name": "stdout"
        }
      ]
    },
    {
      "cell_type": "markdown",
      "metadata": {
        "id": "PiW9P3weZ_SB",
        "colab_type": "text"
      },
      "source": [
        "# You can combine it with unpacking:"
      ]
    },
    {
      "cell_type": "code",
      "metadata": {
        "id": "arYn06SMaCf4",
        "colab_type": "code",
        "colab": {
          "base_uri": "https://localhost:8080/",
          "height": 111
        },
        "outputId": "c942cd08-597f-473c-9cc9-72574b32a9a6"
      },
      "source": [
        "for x_item, y_item in zip(x, y):\n",
        "  print(x_item, y_item)"
      ],
      "execution_count": 21,
      "outputs": [
        {
          "output_type": "stream",
          "text": [
            "1 a\n",
            "2 b\n",
            "4 c\n",
            "8 d\n",
            "16 e\n"
          ],
          "name": "stdout"
        }
      ]
    },
    {
      "cell_type": "markdown",
      "metadata": {
        "id": "Edx_usmsaFOp",
        "colab_type": "text"
      },
      "source": [
        "# Dictionary can be iterated in these two ways"
      ]
    },
    {
      "cell_type": "code",
      "metadata": {
        "id": "1LCmuvVzaItm",
        "colab_type": "code",
        "colab": {
          "base_uri": "https://localhost:8080/",
          "height": 92
        },
        "outputId": "9a73ecce-4285-4817-a34d-026e527732ef"
      },
      "source": [
        "z   = {'a': 0, 'b': 1} \n",
        "for k in z:   \n",
        "  print(k, z[k])\n",
        " \n",
        "for k, v in z.items():   \n",
        "  print(k, v)"
      ],
      "execution_count": 22,
      "outputs": [
        {
          "output_type": "stream",
          "text": [
            "a 0\n",
            "b 1\n",
            "a 0\n",
            "b 1\n"
          ],
          "name": "stdout"
        }
      ]
    },
    {
      "cell_type": "markdown",
      "metadata": {
        "id": "Re9hcUs0aMRd",
        "colab_type": "text"
      },
      "source": [
        "# Comparing to Zero"
      ]
    },
    {
      "cell_type": "code",
      "metadata": {
        "id": "J_Cmzh0KaPlX",
        "colab_type": "code",
        "colab": {
          "base_uri": "https://localhost:8080/",
          "height": 92
        },
        "outputId": "5a0c6118-c04c-43cd-8a98-d19954d0252a"
      },
      "source": [
        "#To print only non zero values from tuple x \n",
        "x = (1, 2, 0, 3, 0, 4) \n",
        "for item in x:     \n",
        "  if item != 0:       \n",
        "    print(item)"
      ],
      "execution_count": 23,
      "outputs": [
        {
          "output_type": "stream",
          "text": [
            "1\n",
            "2\n",
            "3\n",
            "4\n"
          ],
          "name": "stdout"
        }
      ]
    },
    {
      "cell_type": "markdown",
      "metadata": {
        "id": "T2wRCHNfaV46",
        "colab_type": "text"
      },
      "source": [
        "# The Pythonic way is to exploit the fact that zero is interpreted as False in a Boolean\n",
        "context, while all other numbers are considered as True:"
      ]
    },
    {
      "cell_type": "code",
      "metadata": {
        "id": "w_VCcRlpabAx",
        "colab_type": "code",
        "colab": {
          "base_uri": "https://localhost:8080/",
          "height": 92
        },
        "outputId": "324bdc10-e8bf-439e-9930-78b4926cfb38"
      },
      "source": [
        "for item in x:\n",
        "  if item:\n",
        "    print(item)"
      ],
      "execution_count": 25,
      "outputs": [
        {
          "output_type": "stream",
          "text": [
            "1\n",
            "2\n",
            "3\n",
            "4\n"
          ],
          "name": "stdout"
        }
      ]
    },
    {
      "cell_type": "markdown",
      "metadata": {
        "id": "OWUMh1DZae3j",
        "colab_type": "text"
      },
      "source": [
        "# Avoiding Mutable Optional Arguments"
      ]
    },
    {
      "cell_type": "code",
      "metadata": {
        "id": "ktLLXf5kai5H",
        "colab_type": "code",
        "colab": {
          "base_uri": "https://localhost:8080/",
          "height": 73
        },
        "outputId": "8e394f67-137b-4d89-c495-3a25d0066131"
      },
      "source": [
        "def func(value, seq=[]):\n",
        "  seq.append(value)   \n",
        "  return seq \n",
        "  print(func(value=2))\n",
        " \n",
        " \n",
        "print(func(value=4))\n",
        "print(func(value=6))\n",
        "print(func(value=8))"
      ],
      "execution_count": 27,
      "outputs": [
        {
          "output_type": "stream",
          "text": [
            "[4]\n",
            "[4, 6]\n",
            "[4, 6, 8]\n"
          ],
          "name": "stdout"
        }
      ]
    },
    {
      "cell_type": "markdown",
      "metadata": {
        "id": "vZXLajYeamPI",
        "colab_type": "text"
      },
      "source": [
        "# keep away from that with some additional logic."
      ]
    },
    {
      "cell_type": "code",
      "metadata": {
        "id": "VRY7Jjv-apcO",
        "colab_type": "code",
        "colab": {
          "base_uri": "https://localhost:8080/",
          "height": 36
        },
        "outputId": "ca04f326-e9f9-4d44-b089-0efd40701b54"
      },
      "source": [
        "def func(value, seq=None):\n",
        "  if seq is None:\n",
        "    seq = []\n",
        "    seq.append(value)     \n",
        "    return seq \n",
        "print(func(value=6))"
      ],
      "execution_count": 28,
      "outputs": [
        {
          "output_type": "stream",
          "text": [
            "[6]\n"
          ],
          "name": "stdout"
        }
      ]
    }
  ]
}