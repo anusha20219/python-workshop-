{
  "nbformat": 4,
  "nbformat_minor": 0,
  "metadata": {
    "colab": {
      "name": "Day 3 example programs .ipynb",
      "provenance": [],
      "authorship_tag": "ABX9TyPFRYb5V4Nqijt6Q59ydWXB",
      "include_colab_link": true
    },
    "kernelspec": {
      "name": "python3",
      "display_name": "Python 3"
    }
  },
  "cells": [
    {
      "cell_type": "markdown",
      "metadata": {
        "id": "view-in-github",
        "colab_type": "text"
      },
      "source": [
        "<a href=\"https://colab.research.google.com/github/anusha20219/python-workshop-/blob/master/Day_3_example_programs_.ipynb\" target=\"_parent\"><img src=\"https://colab.research.google.com/assets/colab-badge.svg\" alt=\"Open In Colab\"/></a>"
      ]
    },
    {
      "cell_type": "markdown",
      "metadata": {
        "id": "W7OT2e149Mjg",
        "colab_type": "text"
      },
      "source": [
        "# Finding the factorial of a number"
      ]
    },
    {
      "cell_type": "code",
      "metadata": {
        "id": "RPkKFJsG9bBe",
        "colab_type": "code",
        "colab": {}
      },
      "source": [
        "#Python Program to find the factorial of a number using loop. \n",
        "n=int(input(\"Enter number:\")) \n",
        "fact=1  \n",
        "while(n>0):\n",
        "    fact=fact*n  \n",
        "    n=n-1\n",
        "print(\"Factorial of the number is: \") print(fact)"
      ],
      "execution_count": null,
      "outputs": []
    },
    {
      "cell_type": "markdown",
      "metadata": {
        "id": "kijANywr9jS0",
        "colab_type": "text"
      },
      "source": [
        "# Program for multiples of 2 of a list without list comprehension"
      ]
    },
    {
      "cell_type": "code",
      "metadata": {
        "id": "h7qNvIpm9uwK",
        "colab_type": "code",
        "colab": {
          "base_uri": "https://localhost:8080/",
          "height": 146
        },
        "outputId": "295332de-21d4-4985-862d-ed9f28d0afa1"
      },
      "source": [
        "x=[1, 2, 3, 4, 5, 6] \n",
        "result = [] for idx in \n",
        "range(len(x)): \n",
        "result.append(x[idx] * 2) \n",
        "print(result)"
      ],
      "execution_count": null,
      "outputs": [
        {
          "output_type": "error",
          "ename": "SyntaxError",
          "evalue": "ignored",
          "traceback": [
            "\u001b[0;36m  File \u001b[0;32m\"<ipython-input-17-01b3f13c4d69>\"\u001b[0;36m, line \u001b[0;32m2\u001b[0m\n\u001b[0;31m    result = [] for idx in\u001b[0m\n\u001b[0m                  ^\u001b[0m\n\u001b[0;31mSyntaxError\u001b[0m\u001b[0;31m:\u001b[0m invalid syntax\n"
          ]
        }
      ]
    },
    {
      "cell_type": "markdown",
      "metadata": {
        "id": "BQjLK7Wh-W5P",
        "colab_type": "text"
      },
      "source": [
        "# Single line program of Pythonic coding"
      ]
    },
    {
      "cell_type": "code",
      "metadata": {
        "id": "hECtRXph-cBB",
        "colab_type": "code",
        "colab": {
          "base_uri": "https://localhost:8080/",
          "height": 34
        },
        "outputId": "981b823d-11ce-4528-f718-75b36259c474"
      },
      "source": [
        "print([i*2 for i in [1, 2, 3, 4, 5, 6] ])"
      ],
      "execution_count": null,
      "outputs": [
        {
          "output_type": "stream",
          "text": [
            "[2, 4, 6, 8, 10, 12]\n"
          ],
          "name": "stdout"
        }
      ]
    },
    {
      "cell_type": "markdown",
      "metadata": {
        "id": "WJ46b_SN-m9b",
        "colab_type": "text"
      },
      "source": [
        "# More Pythonic program of 3 lines!"
      ]
    },
    {
      "cell_type": "code",
      "metadata": {
        "id": "aT99vGbL-qt-",
        "colab_type": "code",
        "colab": {}
      },
      "source": [
        "from functools import reduce\n",
        "sequences = [x for x in range(1,int(input('Enter no'))+1)] product = reduce(lambda x, y: x*y, sequences) print(product)"
      ],
      "execution_count": null,
      "outputs": []
    },
    {
      "cell_type": "markdown",
      "metadata": {
        "id": "RHY9a-94-3VB",
        "colab_type": "text"
      },
      "source": [
        "# Number and its square as Tuple for a range"
      ]
    },
    {
      "cell_type": "code",
      "metadata": {
        "id": "gb2kr-Mf-4sp",
        "colab_type": "code",
        "colab": {}
      },
      "source": [
        " \n",
        "l_range=int(input(\"Enter the lower range:\")) u_range=int(input(\"Enter the upper range:\")) a=[(x,x**2) for x in range(l_range,u_range+1)] print(a)"
      ],
      "execution_count": null,
      "outputs": []
    },
    {
      "cell_type": "markdown",
      "metadata": {
        "id": "2zS55Kgu--X6",
        "colab_type": "text"
      },
      "source": [
        "# More Pythonic program of 2 lines!"
      ]
    },
    {
      "cell_type": "code",
      "metadata": {
        "id": "XZ9Gad-3_FxF",
        "colab_type": "code",
        "colab": {}
      },
      "source": [
        "a=[(x,x**210\n",
        ") for x in range(int(input(\"Enter the lower range:\")) \\\n",
        "    ) for x in range(int(input( Enter the lower range: )),\\                            int(input(\"Enter the upper range:\"))+1)] print(a)"
      ],
      "execution_count": null,
      "outputs": []
    },
    {
      "cell_type": "markdown",
      "metadata": {
        "id": "zkFolmFDE0-3",
        "colab_type": "text"
      },
      "source": [
        "# Finding the perfect squares"
      ]
    },
    {
      "cell_type": "code",
      "metadata": {
        "id": "pZRpZyAnFDHj",
        "colab_type": "code",
        "colab": {}
      },
      "source": [
        "from math import * \n",
        "sequences = [10,2,8,7,5,4,3,11,0,9,16,1]\n",
        " result=[]\n",
        " for i in sequences:  \n",
        " if int(sqrt(i))**2==i:     \n",
        "result.append(i) \n",
        "print(result)"
      ],
      "execution_count": null,
      "outputs": []
    },
    {
      "cell_type": "markdown",
      "metadata": {
        "id": "6jo4dDBNFQqX",
        "colab_type": "text"
      },
      "source": [
        "# Pythonic program of 3 lines!"
      ]
    },
    {
      "cell_type": "code",
      "metadata": {
        "id": "JFTXuWYmKY2m",
        "colab_type": "code",
        "colab": {}
      },
      "source": [
        "sequences = [10,2,8,7,5,4,3,11,0,9,16,1] \n",
        "filtered_result = filter(lambda x: int(sqrt(x))**2==x, sequences) \n",
        "print(list(filtered_result))"
      ],
      "execution_count": null,
      "outputs": []
    },
    {
      "cell_type": "markdown",
      "metadata": {
        "id": "YpSTAsS4Kmmt",
        "colab_type": "text"
      },
      "source": [
        "# Program to nd the largest number in a list."
      ]
    },
    {
      "cell_type": "code",
      "metadata": {
        "id": "GZnBvzmKKn1i",
        "colab_type": "code",
        "colab": {}
      },
      "source": [
        "a=[] n=int(input(\"Enter number of elements:\")) for i in range(1,n+1):\n",
        "    b=int(input(\"Enter element:\"))     a.append(b)\n",
        "a.sort() print(\"Largest element is:\",a[n-1])"
      ],
      "execution_count": null,
      "outputs": []
    },
    {
      "cell_type": "markdown",
      "metadata": {
        "id": "jiAMA3VoKtWK",
        "colab_type": "text"
      },
      "source": [
        "# Try this More pythonic 2 lines program equivalent to above codings as shown below !"
      ]
    },
    {
      "cell_type": "code",
      "metadata": {
        "id": "hvhAiL8pKv_h",
        "colab_type": "code",
        "colab": {
          "base_uri": "https://localhost:8080/",
          "height": 180
        },
        "outputId": "c14b9a24-ba4b-4b54-814c-47d04df40ad7"
      },
      "source": [
        "x=0 print('The greatest no is',max([int(input(x)) for _ in range(int(input(\"Enter no\")))]))"
      ],
      "execution_count": null,
      "outputs": [
        {
          "output_type": "error",
          "ename": "SyntaxError",
          "evalue": "ignored",
          "traceback": [
            "\u001b[0;36m  File \u001b[0;32m\"<ipython-input-25-5bd0151e2fe0>\"\u001b[0;36m, line \u001b[0;32m1\u001b[0m\n\u001b[0;31m    x=0 print('The greatest no is',max([int(input(x)) for _ in range(int(input(\"Enter no\")))]))\u001b[0m\n\u001b[0m            ^\u001b[0m\n\u001b[0;31mSyntaxError\u001b[0m\u001b[0;31m:\u001b[0m invalid syntax\n"
          ]
        }
      ]
    },
    {
      "cell_type": "markdown",
      "metadata": {
        "id": "WYd7qFboK1hi",
        "colab_type": "text"
      },
      "source": [
        "# Program to put the even and odd elements in a list into two different lists."
      ]
    },
    {
      "cell_type": "code",
      "metadata": {
        "id": "HG0drNpEK6Dn",
        "colab_type": "code",
        "colab": {}
      },
      "source": [
        " a=[] n=int(input(\"Enter number of elements:\")) for i in range(1,n+1):\n",
        "    b=int(input(\"Enter element:\"))\n",
        "    a.append(b) even=[] odd=[] for j in a:\n",
        "    if(j%2==0):\n",
        "        even.append(j)\n",
        "    else:\n",
        "        odd.append(j) print(\"The even list\",even) print(\"The odd list\",odd)"
      ],
      "execution_count": null,
      "outputs": []
    },
    {
      "cell_type": "markdown",
      "metadata": {
        "id": "iaxkGiDvK-y7",
        "colab_type": "text"
      },
      "source": [
        "# Pythonic program is here ...."
      ]
    },
    {
      "cell_type": "code",
      "metadata": {
        "id": "fireBxw4LCkj",
        "colab_type": "code",
        "colab": {
          "base_uri": "https://localhost:8080/",
          "height": 214
        },
        "outputId": "5a97c6be-8960-473d-b4be-fbc34397428e"
      },
      "source": [
        "x=0 l=[int(input(x)) for _ in range(int(input(\"Enter n\")))] print('odd list is',[ i for i in l if i%2]) print('even list is',[i for i in l if not i%2])"
      ],
      "execution_count": null,
      "outputs": [
        {
          "output_type": "error",
          "ename": "SyntaxError",
          "evalue": "ignored",
          "traceback": [
            "\u001b[0;36m  File \u001b[0;32m\"<ipython-input-27-fdfeb4aafaf8>\"\u001b[0;36m, line \u001b[0;32m1\u001b[0m\n\u001b[0;31m    x=0 l=[int(input(x)) for _ in range(int(input(\"Enter n\")))] print('odd list is',[ i for i in l if i%2]) print('even list is',[i for i in l if not i%2])\u001b[0m\n\u001b[0m        ^\u001b[0m\n\u001b[0;31mSyntaxError\u001b[0m\u001b[0;31m:\u001b[0m invalid syntax\n"
          ]
        }
      ]
    },
    {
      "cell_type": "markdown",
      "metadata": {
        "id": "jyZ91NAoLF3V",
        "colab_type": "text"
      },
      "source": [
        "# Python Program to merge two lists and sort it."
      ]
    },
    {
      "cell_type": "code",
      "metadata": {
        "id": "KyOYxg5GLP7q",
        "colab_type": "code",
        "colab": {
          "base_uri": "https://localhost:8080/",
          "height": 197
        },
        "outputId": "8e89f145-1dee-40f3-8860-9e505753849d"
      },
      "source": [
        "a=[] c=[] n1=int(input(\"Enter number of elements:\")) for i in range(1,n1+1):\n",
        "    b=int(input(\"Enter element:\"))\n",
        "    a.append(b) n2=int(input(\"Enter number of elements:\")) for i in range(1,n2+1):\n",
        "    d=int(input(\"Enter element:\"))\n",
        "    c.append(d) new=a+c new.sort()\n",
        "print(\"Sorted list is:\",new)"
      ],
      "execution_count": null,
      "outputs": [
        {
          "output_type": "error",
          "ename": "SyntaxError",
          "evalue": "ignored",
          "traceback": [
            "\u001b[0;36m  File \u001b[0;32m\"<ipython-input-28-986d9cadb14f>\"\u001b[0;36m, line \u001b[0;32m1\u001b[0m\n\u001b[0;31m    a=[] c=[] n1=int(input(\"Enter number of elements:\")) for i in range(1,n1+1):\u001b[0m\n\u001b[0m         ^\u001b[0m\n\u001b[0;31mSyntaxError\u001b[0m\u001b[0;31m:\u001b[0m invalid syntax\n"
          ]
        }
      ]
    },
    {
      "cell_type": "markdown",
      "metadata": {
        "id": "fhUmtwuhLRPu",
        "colab_type": "text"
      },
      "source": [
        "# Instead of forementioned 13 lines program, the equivalent 5 lines !"
      ]
    },
    {
      "cell_type": "code",
      "metadata": {
        "id": "MbsUtMTDLVRR",
        "colab_type": "code",
        "colab": {
          "base_uri": "https://localhost:8080/",
          "height": 265
        },
        "outputId": "4c6ad34e-8fa8-4108-ca76-c1b1e1bf6818"
      },
      "source": [
        "x=0 l=[int(input(x)) for _ in range(int(input(\"Enter how many elements\")))] m=[int(input(x)) for _ in range(int(input(\"Enter how many elements \")))] new=l+m new.sort() print(\"Sorted list is:\",new)"
      ],
      "execution_count": null,
      "outputs": [
        {
          "output_type": "error",
          "ename": "SyntaxError",
          "evalue": "ignored",
          "traceback": [
            "\u001b[0;36m  File \u001b[0;32m\"<ipython-input-29-e322f64a715e>\"\u001b[0;36m, line \u001b[0;32m1\u001b[0m\n\u001b[0;31m    x=0 l=[int(input(x)) for _ in range(int(input(\"Enter how many elements\")))] m=[int(input(x)) for _ in range(int(input(\"Enter how many elements \")))] new=l+m new.sort() print(\"Sorted list is:\",new)\u001b[0m\n\u001b[0m        ^\u001b[0m\n\u001b[0;31mSyntaxError\u001b[0m\u001b[0;31m:\u001b[0m invalid syntax\n"
          ]
        }
      ]
    },
    {
      "cell_type": "markdown",
      "metadata": {
        "id": "klHd_0wLLegZ",
        "colab_type": "text"
      },
      "source": [
        "# Instead of forementioned 8 lines program, the equivalent 3 lines !"
      ]
    },
    {
      "cell_type": "code",
      "metadata": {
        "id": "nfJQ885SLgdE",
        "colab_type": "code",
        "colab": {}
      },
      "source": [
        "a=[['A',34],['B',21],['C',26],['E',29]]\n",
        "a.sort(key = lambda x: x[1]) print(a)"
      ],
      "execution_count": null,
      "outputs": []
    },
    {
      "cell_type": "markdown",
      "metadata": {
        "id": "urlZFpuXLmFe",
        "colab_type": "text"
      },
      "source": [
        "# Program to nd the second largest number in a list"
      ]
    },
    {
      "cell_type": "code",
      "metadata": {
        "id": "An_Syg3TLpVF",
        "colab_type": "code",
        "colab": {
          "base_uri": "https://localhost:8080/",
          "height": 180
        },
        "outputId": "95c887b1-866d-4225-a3c5-ba8a89db7624"
      },
      "source": [
        "a=[] n=int(input(\"Enter number of elements:\")) for i in range(1 n+1):\n",
        "for i in range(1,n+1):\n",
        "    b=int(input(\"Enter element:\"))\n",
        "    a.append(b) for i in range(0,len(a)):\n",
        "    for j in range(0,len(a)-i-1):\n",
        "        if(a[j]>a[j+1]):\n",
        "            temp=a[j]\n",
        "            a[j]=a[j+1]             a[j+1]=temp \n",
        "print('Second largest number is:',a[n-2])"
      ],
      "execution_count": null,
      "outputs": [
        {
          "output_type": "error",
          "ename": "SyntaxError",
          "evalue": "ignored",
          "traceback": [
            "\u001b[0;36m  File \u001b[0;32m\"<ipython-input-31-ad19f9c94884>\"\u001b[0;36m, line \u001b[0;32m1\u001b[0m\n\u001b[0;31m    a=[] n=int(input(\"Enter number of elements:\")) for i in range(1 n+1):\u001b[0m\n\u001b[0m         ^\u001b[0m\n\u001b[0;31mSyntaxError\u001b[0m\u001b[0;31m:\u001b[0m invalid syntax\n"
          ]
        }
      ]
    },
    {
      "cell_type": "markdown",
      "metadata": {
        "id": "LGutCy76Ltd2",
        "colab_type": "text"
      },
      "source": [
        "# Instead of forementioned 12 lines program, the equivalent 4 lines progam !"
      ]
    },
    {
      "cell_type": "code",
      "metadata": {
        "id": "UWE3_eMvLyXJ",
        "colab_type": "code",
        "colab": {
          "base_uri": "https://localhost:8080/",
          "height": 214
        },
        "outputId": "3c741530-7aba-4663-c596-8cc0fc10c99e"
      },
      "source": [
        "x=0 l=[int(input(x)) for _ in range(int(input(\"Enter how many elements\")))] l.sort() print(\"Second largest element is :\",l[-2])"
      ],
      "execution_count": null,
      "outputs": [
        {
          "output_type": "error",
          "ename": "SyntaxError",
          "evalue": "ignored",
          "traceback": [
            "\u001b[0;36m  File \u001b[0;32m\"<ipython-input-32-30805edcbb74>\"\u001b[0;36m, line \u001b[0;32m1\u001b[0m\n\u001b[0;31m    x=0 l=[int(input(x)) for _ in range(int(input(\"Enter how many elements\")))] l.sort() print(\"Second largest element is :\",l[-2])\u001b[0m\n\u001b[0m        ^\u001b[0m\n\u001b[0;31mSyntaxError\u001b[0m\u001b[0;31m:\u001b[0m invalid syntax\n"
          ]
        }
      ]
    },
    {
      "cell_type": "markdown",
      "metadata": {
        "id": "u5Ch5gIpL3An",
        "colab_type": "text"
      },
      "source": [
        "# Program to create a list of tuples with the rst element as the number and the second\n",
        "element as the square of the number."
      ]
    },
    {
      "cell_type": "code",
      "metadata": {
        "id": "6e2fIlM7L_E-",
        "colab_type": "code",
        "colab": {
          "base_uri": "https://localhost:8080/",
          "height": 248
        },
        "outputId": "e2675fe2-ca19-486c-f483-695777dc1031"
      },
      "source": [
        "l_range=int(input(\"Enter the lower range:\")) u_range=int(input(\"Enter the upper range:\")) a=[(x,x**2) for x in range(l_range,u_range+1)] print(a)"
      ],
      "execution_count": null,
      "outputs": [
        {
          "output_type": "error",
          "ename": "SyntaxError",
          "evalue": "ignored",
          "traceback": [
            "\u001b[0;36m  File \u001b[0;32m\"<ipython-input-33-001e0c021ffc>\"\u001b[0;36m, line \u001b[0;32m1\u001b[0m\n\u001b[0;31m    l_range=int(input(\"Enter the lower range:\")) u_range=int(input(\"Enter the upper range:\")) a=[(x,x**2) for x in range(l_range,u_range+1)] print(a)\u001b[0m\n\u001b[0m                                                       ^\u001b[0m\n\u001b[0;31mSyntaxError\u001b[0m\u001b[0;31m:\u001b[0m invalid syntax\n"
          ]
        }
      ]
    },
    {
      "cell_type": "markdown",
      "metadata": {
        "id": "MsCsNCDCL_r2",
        "colab_type": "text"
      },
      "source": [
        "# We can still make it more pythonic as follows"
      ]
    },
    {
      "cell_type": "code",
      "metadata": {
        "id": "BUFDqTJEMEDo",
        "colab_type": "code",
        "colab": {
          "base_uri": "https://localhost:8080/",
          "height": 265
        },
        "outputId": "d4db47fa-dcb9-4e00-f125-fe54c0513058"
      },
      "source": [
        " a=[(x,x**2) for x in range(int(input(\"Enter the lower range:\")),\\                            int(input(\"Enter the upper range:\"))+1)] print(a)"
      ],
      "execution_count": null,
      "outputs": [
        {
          "output_type": "error",
          "ename": "SyntaxError",
          "evalue": "ignored",
          "traceback": [
            "\u001b[0;36m  File \u001b[0;32m\"<ipython-input-34-e64635f578d2>\"\u001b[0;36m, line \u001b[0;32m1\u001b[0m\n\u001b[0;31m    a=[(x,x**2) for x in range(int(input(\"Enter the lower range:\")),\\                            int(input(\"Enter the upper range:\"))+1)] print(a)\u001b[0m\n\u001b[0m                                                                                                                                                  ^\u001b[0m\n\u001b[0;31mSyntaxError\u001b[0m\u001b[0;31m:\u001b[0m unexpected character after line continuation character\n"
          ]
        }
      ]
    },
    {
      "cell_type": "markdown",
      "metadata": {
        "id": "uCy3AqoeMHOY",
        "colab_type": "text"
      },
      "source": [
        "# Of course, We can write in the most pythonic way with one line ! as follows"
      ]
    },
    {
      "cell_type": "code",
      "metadata": {
        "id": "j7hCABPqMMIu",
        "colab_type": "code",
        "colab": {}
      },
      "source": [
        "print([(x,x**2) for x in range(int(input(\"Enter the lower range:\")),\\\n",
        "                           int(input(\"Enter the upper range:\"))+1)])"
      ],
      "execution_count": null,
      "outputs": []
    },
    {
      "cell_type": "markdown",
      "metadata": {
        "id": "CPw3208kMQQg",
        "colab_type": "text"
      },
      "source": [
        "# Program to generate random numbers from 1 to 20 and append them to the list."
      ]
    },
    {
      "cell_type": "code",
      "metadata": {
        "id": "UeK1JbY-MT__",
        "colab_type": "code",
        "colab": {}
      },
      "source": [
        "import random a=[]\n",
        "n=int(input(\"Enter number of elements:\")) for j in range(n):\n",
        "    a.append(random.randint(1,20)) print('Randomised list is: ',a)"
      ],
      "execution_count": null,
      "outputs": []
    },
    {
      "cell_type": "markdown",
      "metadata": {
        "id": "hZgnd0bfMXqG",
        "colab_type": "text"
      },
      "source": [
        "# Pythonic program of 2 lines!"
      ]
    },
    {
      "cell_type": "code",
      "metadata": {
        "id": "JKtuqc4kMbbZ",
        "colab_type": "code",
        "colab": {}
      },
      "source": [
        "import random l=[random.randint(1,20) for _ in range(int(input(\"Enter how many elements\")))] print('Randomised list is: ',l)"
      ],
      "execution_count": null,
      "outputs": []
    },
    {
      "cell_type": "markdown",
      "metadata": {
        "id": "AZz18c9nMk4p",
        "colab_type": "text"
      },
      "source": [
        "# Program for printing list of values with indexing"
      ]
    },
    {
      "cell_type": "code",
      "metadata": {
        "id": "g_OkPUPMMn09",
        "colab_type": "code",
        "colab": {}
      },
      "source": [
        "names = ['Jan','Feb','Mar','Apr','May','Jun','Jul','Aug','Sep','Oct','Nov','Dec'] index=0 for i in names:\n",
        "    print(str(index)+\":\"+i)\n",
        "    index=index+1"
      ],
      "execution_count": null,
      "outputs": []
    },
    {
      "cell_type": "markdown",
      "metadata": {
        "id": "eTetA6A3MuE9",
        "colab_type": "text"
      },
      "source": [
        "# using Pythonic way using enumerate()!"
      ]
    },
    {
      "cell_type": "code",
      "metadata": {
        "id": "RK0coqoLMxYd",
        "colab_type": "code",
        "colab": {}
      },
      "source": [
        "using Pythonic way using enumerate()!\n",
        "names = ['Jan','Feb','Mar','Apr','May','Jun','Jul','Aug','Sep','Oct','Nov','Dec'] for index, value in enumerate(names):     print(f'{index+1}: {value}')"
      ],
      "execution_count": null,
      "outputs": []
    }
  ]
}