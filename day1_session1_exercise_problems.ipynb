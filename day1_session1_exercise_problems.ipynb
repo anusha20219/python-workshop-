{
  "nbformat": 4,
  "nbformat_minor": 0,
  "metadata": {
    "colab": {
      "name": "day1-session1-exercise problems.ipynb ",
      "provenance": [],
      "collapsed_sections": [],
      "authorship_tag": "ABX9TyP98bbfJVi8L00domCX++0X",
      "include_colab_link": true
    },
    "kernelspec": {
      "name": "python3",
      "display_name": "Python 3"
    }
  },
  "cells": [
    {
      "cell_type": "markdown",
      "metadata": {
        "id": "view-in-github",
        "colab_type": "text"
      },
      "source": [
        "<a href=\"https://colab.research.google.com/github/anusha20219/python-workshop-/blob/master/day1_session1_exercise_problems.ipynb\" target=\"_parent\"><img src=\"https://colab.research.google.com/assets/colab-badge.svg\" alt=\"Open In Colab\"/></a>"
      ]
    },
    {
      "cell_type": "markdown",
      "metadata": {
        "id": "IXAvLYXGUj7p",
        "colab_type": "text"
      },
      "source": [
        "# Find the compound interest for the given p,n,r  (formula : p(1+n*r/100)n )"
      ]
    },
    {
      "cell_type": "code",
      "metadata": {
        "id": "ue05oZ5eVayn",
        "colab_type": "code",
        "colab": {
          "base_uri": "https://localhost:8080/",
          "height": 54
        },
        "outputId": "a305b4d4-d8a0-4caa-e7dd-d31027488c3a"
      },
      "source": [
        "def compound_interest(principle, rate, time): \n",
        " \n",
        "  \n",
        " \n",
        "    # Calculates compound interest  \n",
        " \n",
        "    Amount = principle * (pow((1 + rate / 100), time)) \n",
        " \n",
        "    CI = Amount - principle \n",
        " \n",
        "    print(\"Compound interest is\", CI) \n",
        " \n",
        "  \n",
        "# Driver Code  \n",
        " \n",
        "compound_interest(10000, 10.25, 5)"
      ],
      "execution_count": null,
      "outputs": [
        {
          "output_type": "stream",
          "text": [
            "Compound interest is 6288.946267774416\n"
          ],
          "name": "stdout"
        }
      ]
    },
    {
      "cell_type": "markdown",
      "metadata": {
        "id": "yEVruuFJWDRX",
        "colab_type": "text"
      },
      "source": [
        "# Convert centegrade to farenheit  ( f= 9/5*c+32)"
      ]
    },
    {
      "cell_type": "code",
      "metadata": {
        "id": "i_DoL8VzgCss",
        "colab_type": "code",
        "colab": {
          "base_uri": "https://localhost:8080/",
          "height": 71
        },
        "outputId": "16eb08b3-9915-4ed9-c9d0-ad597a06031b"
      },
      "source": [
        "def Celsius_to_Fahrenheit(c) :\n",
        "    \n",
        "    f = (9/5)*c + 32\n",
        "    \n",
        "    return f\n",
        "    \n",
        "# Define a function to convert\n",
        "# Fahrenheit temperature to Celsius\n",
        "def Fahrenheit_to_Celsius(f) :\n",
        "    \n",
        "    c = (5/9)*(f - 32)\n",
        "    \n",
        "    return c\n",
        "    \n",
        " \n",
        "# Driver Code\n",
        "if __name__ == \"__main__\" :\n",
        "    \n",
        "    c = 36\n",
        "    print(c, \"degree celsius is equal to:\",Celsius_to_Fahrenheit(c),\"Fahrenheit\")\n",
        "    \n",
        "    f = 98\n",
        "    print(f,\"Fahrenheit is equal to:\",Fahrenheit_to_Celsius(f),\"degree celsius\")"
      ],
      "execution_count": null,
      "outputs": [
        {
          "output_type": "stream",
          "text": [
            "36 degree celsius is equal to: 96.8 Fahrenheit\n",
            "98 Fahrenheit is equal to: 36.66666666666667 degree celsius\n"
          ],
          "name": "stdout"
        }
      ]
    },
    {
      "cell_type": "code",
      "metadata": {
        "id": "OgY1BSt5gnR0",
        "colab_type": "code",
        "colab": {}
      },
      "source": [
        ""
      ],
      "execution_count": null,
      "outputs": []
    },
    {
      "cell_type": "markdown",
      "metadata": {
        "id": "3s_K43gEgn8q",
        "colab_type": "text"
      },
      "source": [
        "# Find the greater of two nos"
      ]
    },
    {
      "cell_type": "code",
      "metadata": {
        "id": "dg3c7-C1gtWz",
        "colab_type": "code",
        "colab": {
          "base_uri": "https://localhost:8080/",
          "height": 68
        },
        "outputId": "4ca808f8-ebe7-4be0-bcfe-6f1fbcf53e62"
      },
      "source": [
        "# Python program to find the greatest of two numbers using the built-in function\n",
        "num1 = int(input(\"Enter the first number: \"))\n",
        "num2 = int(input(\"Enter the second number: \"))\n",
        "print(max(num1, num2), \"is greater\")"
      ],
      "execution_count": null,
      "outputs": [
        {
          "output_type": "stream",
          "text": [
            "Enter the first number: 4\n",
            "Enter the second number: 7\n",
            "7 is greater\n"
          ],
          "name": "stdout"
        }
      ]
    },
    {
      "cell_type": "code",
      "metadata": {
        "id": "t6dRwjvSg894",
        "colab_type": "code",
        "colab": {}
      },
      "source": [
        ""
      ],
      "execution_count": null,
      "outputs": []
    },
    {
      "cell_type": "markdown",
      "metadata": {
        "id": "aW1AoX-fg9hn",
        "colab_type": "text"
      },
      "source": [
        "# Write a program for finding surface areas of cylinder and cone (2*PI*r*r*h, 1/3*PI*r*r*h) using function"
      ]
    },
    {
      "cell_type": "code",
      "metadata": {
        "id": "MX57-9URhJuZ",
        "colab_type": "code",
        "colab": {
          "base_uri": "https://localhost:8080/",
          "height": 71
        },
        "outputId": "16266d78-ffef-4703-a71b-94a750a0308a"
      },
      "source": [
        "import math \n",
        " \n",
        "pi = math.pi \n",
        "# Function To Calculate Surface Area of Cone \n",
        " \n",
        "def surfacearea(r, s): \n",
        " \n",
        "    return pi * r * s + pi * r * r \n",
        " \n",
        "# Function To Calculate Total Surface Area \n",
        "# of Cylinder \n",
        " \n",
        "def totalsurfacearea(r, h): \n",
        " \n",
        "    tsurf_ar = (2 * pi * r * h) + (2 * pi * r * r) \n",
        " \n",
        "    return tsurf_ar \n",
        "  \n",
        "# Driver Code \n",
        " \n",
        "radius = float(5) \n",
        " \n",
        "height = float(12) \n",
        " \n",
        "slat_height = float(13) \n",
        " \n",
        "r = 5\n",
        " \n",
        "h = 8\n",
        "print( \"Surface Area Of Cone : \", surfacearea(radius, slat_height) )\n",
        " \n",
        "print(\"Total  Surface Area  Of Cylinder =  \",totalsurfacearea(r,h))"
      ],
      "execution_count": null,
      "outputs": [
        {
          "output_type": "stream",
          "text": [
            "Surface Area Of Cone :  282.7433388230814\n",
            "Total  Surface Area  Of Cylinder =   408.4070449666731\n"
          ],
          "name": "stdout"
        }
      ]
    },
    {
      "cell_type": "code",
      "metadata": {
        "id": "mQ77nwWAhoB_",
        "colab_type": "code",
        "colab": {}
      },
      "source": [
        ""
      ],
      "execution_count": null,
      "outputs": []
    },
    {
      "cell_type": "markdown",
      "metadata": {
        "id": "MHhuFCO_hob4",
        "colab_type": "text"
      },
      "source": [
        "# Find the greatest of four nos ( using ‘and’ operator)   using function."
      ]
    },
    {
      "cell_type": "code",
      "metadata": {
        "id": "tf841a-3husi",
        "colab_type": "code",
        "colab": {
          "base_uri": "https://localhost:8080/",
          "height": 139
        },
        "outputId": "3e63746c-4342-4cb6-e55e-fe6adc703caa"
      },
      "source": [
        "numbers = []\n",
        "while True:\n",
        "    number = int(input(\"Please enter a number. Enter 0 to finish.: \"))\n",
        "    if number == 0:\n",
        "        break\n",
        "    numbers.append(number)\n",
        "print(\"maximum of {} is {}\".format(numbers,max(numbers)))"
      ],
      "execution_count": null,
      "outputs": [
        {
          "output_type": "stream",
          "text": [
            "Please enter a number. Enter 0 to finish.: 8\n",
            "Please enter a number. Enter 0 to finish.: 9\n",
            "Please enter a number. Enter 0 to finish.: 6\n",
            "Please enter a number. Enter 0 to finish.: 3\n",
            "Please enter a number. Enter 0 to finish.: 0\n",
            "maximum of [8, 9, 6, 3] is 9\n"
          ],
          "name": "stdout"
        }
      ]
    },
    {
      "cell_type": "code",
      "metadata": {
        "id": "Dqd_7fgVjtai",
        "colab_type": "code",
        "colab": {}
      },
      "source": [
        ""
      ],
      "execution_count": null,
      "outputs": []
    },
    {
      "cell_type": "markdown",
      "metadata": {
        "id": "UHVANwbQju02",
        "colab_type": "text"
      },
      "source": [
        "# Write a  menu program to perform the operations ( ODDorEven, Factorial, ODDNoUptoN, PrimeUptoN ) using functions for two nos with  menu choice"
      ]
    },
    {
      "cell_type": "code",
      "metadata": {
        "id": "LYakMlSZj04v",
        "colab_type": "code",
        "colab": {
          "base_uri": "https://localhost:8080/",
          "height": 1000
        },
        "outputId": "195a6c30-821a-40d7-90f7-61efb83f91d1"
      },
      "source": [
        "def odd_even(num):\n",
        "  if num%2==0:\n",
        "    print(\"The number is even\")\n",
        "  else:\n",
        "    print(\"The number is odd\")\n",
        " \n",
        "def fact(num):\n",
        "  fact=1\n",
        "  if num==0:\n",
        "    print(\"Factorial of 0 is 1\")\n",
        "  else:\n",
        "    for i in range(1,num+1):\n",
        "      fact=fact*i\n",
        "    print(\"The factorial of\",num,\"is\",fact)\n",
        " \n",
        "def odd(num):\n",
        "  for i in range(0,num+1):\n",
        "    if (i%2)!=0:\n",
        "      print(i)\n",
        " \n",
        "def prime(num):\n",
        "  for num in range(1, num+1):\n",
        "    if num > 1:\n",
        "       for i in range(2, num):\n",
        "           if (num % i) == 0:\n",
        "               break\n",
        "       else:\n",
        "           print(num)\n",
        " \n",
        "loop=1\n",
        "choice=0\n",
        "while loop == 1:\n",
        "  print (\"Welcome to menu\")\n",
        "  print (\"your options are:\")\n",
        "  print (\" \")\n",
        "  print(\"1) Find odd or even number\")\n",
        "  print(\"2) find factorial\")\n",
        "  print(\"3) find all odd number\")\n",
        "  print(\"4) find prime number\")\n",
        "    \n",
        "  print(\" \")\n",
        "  try:\n",
        "    choice = int(input(\"Choose your option: \"))\n",
        "  except:\n",
        "    print('please enter a valid number for option')\n",
        "    print(\" \")\n",
        "    print(\" \")\n",
        " \n",
        "  if choice==1:\n",
        "    number=int(input(\"enter the number:\"))\n",
        "    print(\"Result:\",odd_even(number))\n",
        "  elif choice==2:\n",
        "    number=int(input(\"enter the number:\"))\n",
        "    print(\"Result:\",fact(number))\n",
        "  elif choice==3:\n",
        "    number=int(input(\"enter the number:\"))\n",
        "    print(\"Result:\",odd(number))\n",
        "  elif choice==4:\n",
        "    number=int(input(\"enter the number:\"))\n",
        "    print(\"Result:\",prime(number))\n",
        "  elif choice == 5:\n",
        "    loop = 0\n",
        "     \n",
        "  else:\n",
        "    print(\"please choice a valid option from 1 to 5\")\n",
        "    choice=0"
      ],
      "execution_count": null,
      "outputs": [
        {
          "output_type": "stream",
          "text": [
            "Welcome to menu\n",
            "your options are:\n",
            " \n",
            "1) Find odd or even number\n",
            "2) find factorial\n",
            "3) find all odd number\n",
            "4) find prime number\n",
            " \n",
            "The number is even\n",
            "Result: None\n",
            "Welcome to menu\n",
            "your options are:\n",
            " \n",
            "1) Find odd or even number\n",
            "2) find factorial\n",
            "3) find all odd number\n",
            "4) find prime number\n",
            " \n",
            "The factorial of 8 is 40320\n",
            "Result: None\n",
            "Welcome to menu\n",
            "your options are:\n",
            " \n",
            "1) Find odd or even number\n",
            "2) find factorial\n",
            "3) find all odd number\n",
            "4) find prime number\n",
            " \n",
            "1\n",
            "3\n",
            "5\n",
            "7\n",
            "Result: None\n",
            "Welcome to menu\n",
            "your options are:\n",
            " \n",
            "1) Find odd or even number\n",
            "2) find factorial\n",
            "3) find all odd number\n",
            "4) find prime number\n",
            " \n",
            "2\n",
            "3\n",
            "5\n",
            "7\n",
            "Result: None\n",
            "Welcome to menu\n",
            "your options are:\n",
            " \n",
            "1) Find odd or even number\n",
            "2) find factorial\n",
            "3) find all odd number\n",
            "4) find prime number\n",
            " \n"
          ],
          "name": "stdout"
        }
      ]
    }
  ]
}