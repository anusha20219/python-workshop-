{
  "nbformat": 4,
  "nbformat_minor": 0,
  "metadata": {
    "colab": {
      "name": "Day 2 session 1 exercise problems.ipynb",
      "provenance": [],
      "collapsed_sections": [],
      "authorship_tag": "ABX9TyOkRCKQNKKN2K0gOEhTtGVT",
      "include_colab_link": true
    },
    "kernelspec": {
      "name": "python3",
      "display_name": "Python 3"
    }
  },
  "cells": [
    {
      "cell_type": "markdown",
      "metadata": {
        "id": "view-in-github",
        "colab_type": "text"
      },
      "source": [
        "<a href=\"https://colab.research.google.com/github/anusha20219/python-workshop-/blob/master/Day_2_session_1_exercise_problems.ipynb\" target=\"_parent\"><img src=\"https://colab.research.google.com/assets/colab-badge.svg\" alt=\"Open In Colab\"/></a>"
      ]
    },
    {
      "cell_type": "markdown",
      "metadata": {
        "id": "85OAjW2PJYNO",
        "colab_type": "text"
      },
      "source": [
        "# print multiples of 3 upto 200 using a list"
      ]
    },
    {
      "cell_type": "code",
      "metadata": {
        "id": "yYSvNx4sJc5y",
        "colab_type": "code",
        "colab": {
          "base_uri": "https://localhost:8080/",
          "height": 54
        },
        "outputId": "61be7f50-89ee-4b1c-bf55-819be62933aa"
      },
      "source": [
        "def multiple(m, n): \n",
        " \n",
        "  \n",
        " \n",
        "    # inserts all elements from n to  \n",
        " \n",
        "    # (m * n)+1 incremented by n. \n",
        " \n",
        "    a = range(n, (m * n)+1, n) \n",
        " \n",
        "      \n",
        " \n",
        "    print(*a) \n",
        " \n",
        "  \n",
        "# driver code  \n",
        " \n",
        "m = 200\n",
        " \n",
        "n = 3\n",
        "multiple(m, n)"
      ],
      "execution_count": null,
      "outputs": [
        {
          "output_type": "stream",
          "text": [
            "3 6 9 12 15 18 21 24 27 30 33 36 39 42 45 48 51 54 57 60 63 66 69 72 75 78 81 84 87 90 93 96 99 102 105 108 111 114 117 120 123 126 129 132 135 138 141 144 147 150 153 156 159 162 165 168 171 174 177 180 183 186 189 192 195 198 201 204 207 210 213 216 219 222 225 228 231 234 237 240 243 246 249 252 255 258 261 264 267 270 273 276 279 282 285 288 291 294 297 300 303 306 309 312 315 318 321 324 327 330 333 336 339 342 345 348 351 354 357 360 363 366 369 372 375 378 381 384 387 390 393 396 399 402 405 408 411 414 417 420 423 426 429 432 435 438 441 444 447 450 453 456 459 462 465 468 471 474 477 480 483 486 489 492 495 498 501 504 507 510 513 516 519 522 525 528 531 534 537 540 543 546 549 552 555 558 561 564 567 570 573 576 579 582 585 588 591 594 597 600\n"
          ],
          "name": "stdout"
        }
      ]
    },
    {
      "cell_type": "markdown",
      "metadata": {
        "id": "nQo5JISkKLWS",
        "colab_type": "text"
      },
      "source": [
        "# print the nos only divisable by 5 and 7 between 1000 and 2000 using a list( both inclusive)"
      ]
    },
    {
      "cell_type": "code",
      "metadata": {
        "id": "QoZ-uy8LKM4L",
        "colab_type": "code",
        "colab": {
          "base_uri": "https://localhost:8080/",
          "height": 54
        },
        "outputId": "c8bd2120-0bae-48b8-9b75-b09fb2dccbc8"
      },
      "source": [
        "nl=[]\n",
        "for x in range(1000, 2000):\n",
        "    if (x%7==0) and (x%5==0):\n",
        "        nl.append(str(x))\n",
        "print (','.join(nl))"
      ],
      "execution_count": null,
      "outputs": [
        {
          "output_type": "stream",
          "text": [
            "1015,1050,1085,1120,1155,1190,1225,1260,1295,1330,1365,1400,1435,1470,1505,1540,1575,1610,1645,1680,1715,1750,1785,1820,1855,1890,1925,1960,1995\n"
          ],
          "name": "stdout"
        }
      ]
    },
    {
      "cell_type": "markdown",
      "metadata": {
        "id": "ZJ6i9LvGKewe",
        "colab_type": "text"
      },
      "source": [
        "# Add the n number of names in a list and print them alphabetically and reverse alphabetically."
      ]
    },
    {
      "cell_type": "code",
      "metadata": {
        "id": "dyQ960MMLEvs",
        "colab_type": "code",
        "colab": {}
      },
      "source": [
        "def main():\n",
        "    \n",
        "    #List Of Strings\n",
        "    listOfStrings = ['hi' , 'hello', 'at', 'this', 'there', 'from']\n",
        "    \n",
        "    print(listOfStrings)\n",
        "    \n",
        "    '''\n",
        "    Sort List of string alphabetically\n",
        "    '''\n",
        "    listOfStrings.sort()\n",
        "    \n",
        "    # Print the list\n",
        "    print(listOfStrings)\n",
        "    \n",
        "    '''\n",
        "    Sort List of string alphabetically in Reverse Order\n",
        "    '''\n",
        "    listOfStrings.sort(reverse=True)\n",
        "    \n",
        "    print(listOfStrings)"
      ],
      "execution_count": null,
      "outputs": []
    },
    {
      "cell_type": "markdown",
      "metadata": {
        "id": "A3k65CEZLW_r",
        "colab_type": "text"
      },
      "source": [
        "# Print  perfect squares and divisible by 5 between 500 and 1000( (both inclusive) using list"
      ]
    },
    {
      "cell_type": "code",
      "metadata": {
        "id": "-0fS05uMLxDP",
        "colab_type": "code",
        "colab": {
          "base_uri": "https://localhost:8080/",
          "height": 54
        },
        "outputId": "46a5b0c6-1e74-47b4-fbcd-121926c8ab11"
      },
      "source": [
        "def perfectSquares(l, r): \n",
        " \n",
        "  \n",
        " \n",
        "    # For every element from the range \n",
        " \n",
        "    for i in range(l, r + 1): \n",
        " \n",
        "  \n",
        " \n",
        "        # If current element is \n",
        " \n",
        "        # a perfect square \n",
        " \n",
        "        if (i**(.5) == int(i**(.5))): \n",
        " \n",
        "            print(i, end=\" \") \n",
        " \n",
        "  \n",
        "# Driver code \n",
        " \n",
        "l = 5\n",
        " \n",
        "r = 500\n",
        " \n",
        "  \n",
        "perfectSquares(l, r)"
      ],
      "execution_count": null,
      "outputs": [
        {
          "output_type": "stream",
          "text": [
            "9 16 25 36 49 64 81 100 121 144 169 196 225 256 289 324 361 400 441 484 "
          ],
          "name": "stdout"
        }
      ]
    },
    {
      "cell_type": "markdown",
      "metadata": {
        "id": "vlTqACysL8uA",
        "colab_type": "text"
      },
      "source": [
        " # Calculate the Average of  the numbers in a List by getting the elements of list from keyboard ."
      ]
    },
    {
      "cell_type": "code",
      "metadata": {
        "id": "NlXxi_87MDmM",
        "colab_type": "code",
        "colab": {
          "base_uri": "https://localhost:8080/",
          "height": 139
        },
        "outputId": "690cd279-efa8-42a6-971f-8f5d1b911ac6"
      },
      "source": [
        "n=int(input(\"Enter the number of elements to be inserted: \"))\n",
        "a=[]\n",
        "for i in range(0,n):\n",
        "    elem=int(input(\"Enter element: \"))\n",
        "    a.append(elem)\n",
        "avg=sum(a)/n\n",
        "print(\"Average of elements in the list\",round(avg,2))"
      ],
      "execution_count": null,
      "outputs": [
        {
          "output_type": "stream",
          "text": [
            "Enter the number of elements to be inserted: 4\n",
            "Enter element: 3\n",
            "Enter element: 2\n",
            "Enter element: 6\n",
            "Enter element: 7\n",
            "Average of elements in the list 4.5\n"
          ],
          "name": "stdout"
        }
      ]
    },
    {
      "cell_type": "markdown",
      "metadata": {
        "id": "ey-jFQEgMOo0",
        "colab_type": "text"
      },
      "source": [
        "# Print lists of odd,even and multiples of 5 numbers from 1 to 1000 using list comprehension"
      ]
    },
    {
      "cell_type": "code",
      "metadata": {
        "id": "P4LzQ8CMNG8y",
        "colab_type": "code",
        "colab": {
          "base_uri": "https://localhost:8080/",
          "height": 88
        },
        "outputId": "d7569f5c-2732-4408-85fa-f27371312e45"
      },
      "source": [
        "list1 =[i * i for i in range(1000)]\n",
        " \n",
        "only_odd = [num for num in list1 if num % 2 == 0]  \n",
        " \n",
        "print(only_odd) \n",
        "even_nos = [num for num in list1 if num % 2 == 0] \n",
        " \n",
        "  \n",
        " \n",
        "print(\"Even numbers in the list: \", even_nos) \n",
        "number_list = [ x for x in range(20) if x % 5 == 0]\n",
        "print(number_list)"
      ],
      "execution_count": null,
      "outputs": [
        {
          "output_type": "stream",
          "text": [
            "[0, 4, 16, 36, 64, 100, 144, 196, 256, 324, 400, 484, 576, 676, 784, 900, 1024, 1156, 1296, 1444, 1600, 1764, 1936, 2116, 2304, 2500, 2704, 2916, 3136, 3364, 3600, 3844, 4096, 4356, 4624, 4900, 5184, 5476, 5776, 6084, 6400, 6724, 7056, 7396, 7744, 8100, 8464, 8836, 9216, 9604, 10000, 10404, 10816, 11236, 11664, 12100, 12544, 12996, 13456, 13924, 14400, 14884, 15376, 15876, 16384, 16900, 17424, 17956, 18496, 19044, 19600, 20164, 20736, 21316, 21904, 22500, 23104, 23716, 24336, 24964, 25600, 26244, 26896, 27556, 28224, 28900, 29584, 30276, 30976, 31684, 32400, 33124, 33856, 34596, 35344, 36100, 36864, 37636, 38416, 39204, 40000, 40804, 41616, 42436, 43264, 44100, 44944, 45796, 46656, 47524, 48400, 49284, 50176, 51076, 51984, 52900, 53824, 54756, 55696, 56644, 57600, 58564, 59536, 60516, 61504, 62500, 63504, 64516, 65536, 66564, 67600, 68644, 69696, 70756, 71824, 72900, 73984, 75076, 76176, 77284, 78400, 79524, 80656, 81796, 82944, 84100, 85264, 86436, 87616, 88804, 90000, 91204, 92416, 93636, 94864, 96100, 97344, 98596, 99856, 101124, 102400, 103684, 104976, 106276, 107584, 108900, 110224, 111556, 112896, 114244, 115600, 116964, 118336, 119716, 121104, 122500, 123904, 125316, 126736, 128164, 129600, 131044, 132496, 133956, 135424, 136900, 138384, 139876, 141376, 142884, 144400, 145924, 147456, 148996, 150544, 152100, 153664, 155236, 156816, 158404, 160000, 161604, 163216, 164836, 166464, 168100, 169744, 171396, 173056, 174724, 176400, 178084, 179776, 181476, 183184, 184900, 186624, 188356, 190096, 191844, 193600, 195364, 197136, 198916, 200704, 202500, 204304, 206116, 207936, 209764, 211600, 213444, 215296, 217156, 219024, 220900, 222784, 224676, 226576, 228484, 230400, 232324, 234256, 236196, 238144, 240100, 242064, 244036, 246016, 248004, 250000, 252004, 254016, 256036, 258064, 260100, 262144, 264196, 266256, 268324, 270400, 272484, 274576, 276676, 278784, 280900, 283024, 285156, 287296, 289444, 291600, 293764, 295936, 298116, 300304, 302500, 304704, 306916, 309136, 311364, 313600, 315844, 318096, 320356, 322624, 324900, 327184, 329476, 331776, 334084, 336400, 338724, 341056, 343396, 345744, 348100, 350464, 352836, 355216, 357604, 360000, 362404, 364816, 367236, 369664, 372100, 374544, 376996, 379456, 381924, 384400, 386884, 389376, 391876, 394384, 396900, 399424, 401956, 404496, 407044, 409600, 412164, 414736, 417316, 419904, 422500, 425104, 427716, 430336, 432964, 435600, 438244, 440896, 443556, 446224, 448900, 451584, 454276, 456976, 459684, 462400, 465124, 467856, 470596, 473344, 476100, 478864, 481636, 484416, 487204, 490000, 492804, 495616, 498436, 501264, 504100, 506944, 509796, 512656, 515524, 518400, 521284, 524176, 527076, 529984, 532900, 535824, 538756, 541696, 544644, 547600, 550564, 553536, 556516, 559504, 562500, 565504, 568516, 571536, 574564, 577600, 580644, 583696, 586756, 589824, 592900, 595984, 599076, 602176, 605284, 608400, 611524, 614656, 617796, 620944, 624100, 627264, 630436, 633616, 636804, 640000, 643204, 646416, 649636, 652864, 656100, 659344, 662596, 665856, 669124, 672400, 675684, 678976, 682276, 685584, 688900, 692224, 695556, 698896, 702244, 705600, 708964, 712336, 715716, 719104, 722500, 725904, 729316, 732736, 736164, 739600, 743044, 746496, 749956, 753424, 756900, 760384, 763876, 767376, 770884, 774400, 777924, 781456, 784996, 788544, 792100, 795664, 799236, 802816, 806404, 810000, 813604, 817216, 820836, 824464, 828100, 831744, 835396, 839056, 842724, 846400, 850084, 853776, 857476, 861184, 864900, 868624, 872356, 876096, 879844, 883600, 887364, 891136, 894916, 898704, 902500, 906304, 910116, 913936, 917764, 921600, 925444, 929296, 933156, 937024, 940900, 944784, 948676, 952576, 956484, 960400, 964324, 968256, 972196, 976144, 980100, 984064, 988036, 992016, 996004]\n",
            "Even numbers in the list:  [0, 4, 16, 36, 64, 100, 144, 196, 256, 324, 400, 484, 576, 676, 784, 900, 1024, 1156, 1296, 1444, 1600, 1764, 1936, 2116, 2304, 2500, 2704, 2916, 3136, 3364, 3600, 3844, 4096, 4356, 4624, 4900, 5184, 5476, 5776, 6084, 6400, 6724, 7056, 7396, 7744, 8100, 8464, 8836, 9216, 9604, 10000, 10404, 10816, 11236, 11664, 12100, 12544, 12996, 13456, 13924, 14400, 14884, 15376, 15876, 16384, 16900, 17424, 17956, 18496, 19044, 19600, 20164, 20736, 21316, 21904, 22500, 23104, 23716, 24336, 24964, 25600, 26244, 26896, 27556, 28224, 28900, 29584, 30276, 30976, 31684, 32400, 33124, 33856, 34596, 35344, 36100, 36864, 37636, 38416, 39204, 40000, 40804, 41616, 42436, 43264, 44100, 44944, 45796, 46656, 47524, 48400, 49284, 50176, 51076, 51984, 52900, 53824, 54756, 55696, 56644, 57600, 58564, 59536, 60516, 61504, 62500, 63504, 64516, 65536, 66564, 67600, 68644, 69696, 70756, 71824, 72900, 73984, 75076, 76176, 77284, 78400, 79524, 80656, 81796, 82944, 84100, 85264, 86436, 87616, 88804, 90000, 91204, 92416, 93636, 94864, 96100, 97344, 98596, 99856, 101124, 102400, 103684, 104976, 106276, 107584, 108900, 110224, 111556, 112896, 114244, 115600, 116964, 118336, 119716, 121104, 122500, 123904, 125316, 126736, 128164, 129600, 131044, 132496, 133956, 135424, 136900, 138384, 139876, 141376, 142884, 144400, 145924, 147456, 148996, 150544, 152100, 153664, 155236, 156816, 158404, 160000, 161604, 163216, 164836, 166464, 168100, 169744, 171396, 173056, 174724, 176400, 178084, 179776, 181476, 183184, 184900, 186624, 188356, 190096, 191844, 193600, 195364, 197136, 198916, 200704, 202500, 204304, 206116, 207936, 209764, 211600, 213444, 215296, 217156, 219024, 220900, 222784, 224676, 226576, 228484, 230400, 232324, 234256, 236196, 238144, 240100, 242064, 244036, 246016, 248004, 250000, 252004, 254016, 256036, 258064, 260100, 262144, 264196, 266256, 268324, 270400, 272484, 274576, 276676, 278784, 280900, 283024, 285156, 287296, 289444, 291600, 293764, 295936, 298116, 300304, 302500, 304704, 306916, 309136, 311364, 313600, 315844, 318096, 320356, 322624, 324900, 327184, 329476, 331776, 334084, 336400, 338724, 341056, 343396, 345744, 348100, 350464, 352836, 355216, 357604, 360000, 362404, 364816, 367236, 369664, 372100, 374544, 376996, 379456, 381924, 384400, 386884, 389376, 391876, 394384, 396900, 399424, 401956, 404496, 407044, 409600, 412164, 414736, 417316, 419904, 422500, 425104, 427716, 430336, 432964, 435600, 438244, 440896, 443556, 446224, 448900, 451584, 454276, 456976, 459684, 462400, 465124, 467856, 470596, 473344, 476100, 478864, 481636, 484416, 487204, 490000, 492804, 495616, 498436, 501264, 504100, 506944, 509796, 512656, 515524, 518400, 521284, 524176, 527076, 529984, 532900, 535824, 538756, 541696, 544644, 547600, 550564, 553536, 556516, 559504, 562500, 565504, 568516, 571536, 574564, 577600, 580644, 583696, 586756, 589824, 592900, 595984, 599076, 602176, 605284, 608400, 611524, 614656, 617796, 620944, 624100, 627264, 630436, 633616, 636804, 640000, 643204, 646416, 649636, 652864, 656100, 659344, 662596, 665856, 669124, 672400, 675684, 678976, 682276, 685584, 688900, 692224, 695556, 698896, 702244, 705600, 708964, 712336, 715716, 719104, 722500, 725904, 729316, 732736, 736164, 739600, 743044, 746496, 749956, 753424, 756900, 760384, 763876, 767376, 770884, 774400, 777924, 781456, 784996, 788544, 792100, 795664, 799236, 802816, 806404, 810000, 813604, 817216, 820836, 824464, 828100, 831744, 835396, 839056, 842724, 846400, 850084, 853776, 857476, 861184, 864900, 868624, 872356, 876096, 879844, 883600, 887364, 891136, 894916, 898704, 902500, 906304, 910116, 913936, 917764, 921600, 925444, 929296, 933156, 937024, 940900, 944784, 948676, 952576, 956484, 960400, 964324, 968256, 972196, 976144, 980100, 984064, 988036, 992016, 996004]\n",
            "[0, 5, 10, 15]\n"
          ],
          "name": "stdout"
        }
      ]
    },
    {
      "cell_type": "markdown",
      "metadata": {
        "id": "AebvAj-JNI2j",
        "colab_type": "text"
      },
      "source": [
        "# Python Program to Create a List of Tuples with the First Element as the Number and Second Element as the Square of the Number"
      ]
    },
    {
      "cell_type": "code",
      "metadata": {
        "id": "ssQV8TY3NJYr",
        "colab_type": "code",
        "colab": {
          "base_uri": "https://localhost:8080/",
          "height": 88
        },
        "outputId": "a073c5d1-5aaf-4b7d-c578-0b6aca0964e6"
      },
      "source": [
        "l_range=int(input(\"Enter the lower range:\"))\n",
        "u_range=int(input(\"Enter the upper range:\"))\n",
        "a=[(x,x**2) for x in range(l_range,u_range+1)]\n",
        "print(a)"
      ],
      "execution_count": null,
      "outputs": [
        {
          "output_type": "stream",
          "text": [
            "Enter the lower range:2\n",
            "Enter the upper range:8\n",
            "[(2, 4), (3, 9), (4, 16), (5, 25), (6, 36), (7, 49), (8, 64)]\n"
          ],
          "name": "stdout"
        }
      ]
    },
    {
      "cell_type": "markdown",
      "metadata": {
        "id": "exs1VWNkNRMs",
        "colab_type": "text"
      },
      "source": [
        "# Write python program to have a list of words  to sort them from  shortest to longest using list of tuples"
      ]
    },
    {
      "cell_type": "code",
      "metadata": {
        "id": "cfuuhMbtNmmD",
        "colab_type": "code",
        "colab": {
          "base_uri": "https://localhost:8080/",
          "height": 54
        },
        "outputId": "ceea80f6-a167-4b13-b1d5-0c4df24a67c9"
      },
      "source": [
        "def Sort_Tuple(tup):  \n",
        " \n",
        "      \n",
        " \n",
        "    # getting length of list of tuples \n",
        " \n",
        "    lst = len(tup)  \n",
        " \n",
        "    for i in range(0, lst):  \n",
        " \n",
        "          \n",
        " \n",
        "        for j in range(0, lst-i-1):  \n",
        " \n",
        "            if (tup[j][1] > tup[j + 1][1]):  \n",
        " \n",
        "                temp = tup[j]  \n",
        " \n",
        "                tup[j]= tup[j + 1]  \n",
        " \n",
        "                tup[j + 1]= temp  \n",
        " \n",
        "    return tup  \n",
        " \n",
        "  \n",
        "# Driver Code  \n",
        " \n",
        "tup =[('for', 24), ('is', 10), ('Geeks', 28),  \n",
        " \n",
        "      ('Geeksforgeeks', 5), ('portal', 20), ('a', 15)]  \n",
        " \n",
        "        \n",
        " \n",
        "print(Sort_Tuple(tup))"
      ],
      "execution_count": null,
      "outputs": [
        {
          "output_type": "stream",
          "text": [
            "[('Geeksforgeeks', 5), ('is', 10), ('a', 15), ('portal', 20), ('for', 24), ('Geeks', 28)]\n"
          ],
          "name": "stdout"
        }
      ]
    },
    {
      "cell_type": "markdown",
      "metadata": {
        "id": "0kGyxhytNwBS",
        "colab_type": "text"
      },
      "source": [
        "# Write python program to get a list of tuples of Rollno,Name for 5 students through keyboard and sort them Rollno wise ascending order"
      ]
    },
    {
      "cell_type": "code",
      "metadata": {
        "id": "6ewO4Xdn9opD",
        "colab_type": "code",
        "colab": {
          "base_uri": "https://localhost:8080/",
          "height": 190
        },
        "outputId": "1855a18c-34cd-4a89-c215-07f28e14a25c"
      },
      "source": [
        "l = []\n",
        " \n",
        "def inp():\n",
        "  name = input('Name : ')\n",
        "  rolno = input(' Rol No : ')\n",
        "  return (name,rolno)  # returns tuples\n",
        " \n",
        "n = int(input('Number of Students : '))\n",
        "for x in range(n):\n",
        "  l.append(inp())\n",
        " \n",
        "print(f'Original : {l}')\n",
        " \n",
        "l.sort(key = lambda x:x[1])\n",
        "print(f'According to Rol No : Ascending :{l}')"
      ],
      "execution_count": null,
      "outputs": [
        {
          "output_type": "stream",
          "text": [
            "Number of Students : 3\n",
            "Name : A\n",
            " Rol No : 6\n",
            "Name : B\n",
            " Rol No : B\n",
            "Name : C\n",
            " Rol No : 6\n",
            "Original : [('A', '6'), ('B', 'B'), ('C', '6')]\n",
            "According to Rol No : Ascending :[('A', '6'), ('C', '6'), ('B', 'B')]\n"
          ],
          "name": "stdout"
        }
      ]
    },
    {
      "cell_type": "markdown",
      "metadata": {
        "id": "uVAl2afr9yP0",
        "colab_type": "text"
      },
      "source": [
        "# Write python program to get a list of tuples of Rollno,Name for 5 students through keyboard and sort them by Rollno wise descending order"
      ]
    },
    {
      "cell_type": "code",
      "metadata": {
        "id": "9T7hCoZX952f",
        "colab_type": "code",
        "colab": {
          "base_uri": "https://localhost:8080/",
          "height": 207
        },
        "outputId": "efb5ea92-b31f-49e2-afb4-a9ed3445db08"
      },
      "source": [
        "l = []\n",
        " \n",
        "def inp():\n",
        "  name = input('Name : ')\n",
        "  rolno = input(' Rol No : ')\n",
        "  return (name,rolno)  # returns tuples\n",
        " \n",
        "n = int(input('Number of Students : '))\n",
        "for x in range(n):\n",
        "  l.append(inp())\n",
        " \n",
        "print(f'Original : {l}')\n",
        " \n",
        "l.sort(key = lambda x:x[1])\n",
        "print(f'According to Rol No : Ascending :{l}')\n",
        "print(f'According to Rol No : Descending :{l[::-1]}')"
      ],
      "execution_count": null,
      "outputs": [
        {
          "output_type": "stream",
          "text": [
            "Number of Students : 3\n",
            "Name : A\n",
            " Rol No : 7\n",
            "Name : B\n",
            " Rol No : 8\n",
            "Name : C\n",
            " Rol No : 3\n",
            "Original : [('A', '7'), ('B', '8'), ('C', '3')]\n",
            "According to Rol No : Ascending :[('C', '3'), ('A', '7'), ('B', '8')]\n",
            "According to Rol No : Descending :[('B', '8'), ('A', '7'), ('C', '3')]\n"
          ],
          "name": "stdout"
        }
      ]
    },
    {
      "cell_type": "markdown",
      "metadata": {
        "id": "mBLu-CWe-J93",
        "colab_type": "text"
      },
      "source": [
        "# Write python program to get a list of tuples of Rollno,Name for 5 students through keyboard and sort them by Name wise ascending order"
      ]
    },
    {
      "cell_type": "code",
      "metadata": {
        "id": "_thmc2FE-OVW",
        "colab_type": "code",
        "colab": {
          "base_uri": "https://localhost:8080/",
          "height": 190
        },
        "outputId": "43de93b8-95f2-4a56-c5d4-b97e7a486ce7"
      },
      "source": [
        "l = []\n",
        " \n",
        "def inp():\n",
        "  name = input('Name : ')\n",
        "  rolno = input(' Rol No : ')\n",
        "  return (name,rolno)  # returns tuples\n",
        " \n",
        "n = int(input('Number of Students : '))\n",
        "for x in range(n):\n",
        "  l.append(inp())\n",
        " \n",
        "print(f'Original : {l}')\n",
        " \n",
        "l.sort(key = lambda x:x[1]) \n",
        " \n",
        "l.sort(key = lambda x:x[0])\n",
        "print(f'According to Name : Ascending :{l}')"
      ],
      "execution_count": null,
      "outputs": [
        {
          "output_type": "stream",
          "text": [
            "Number of Students : 3\n",
            "Name : A\n",
            " Rol No : 6\n",
            "Name : B\n",
            " Rol No : 3\n",
            "Name : C\n",
            " Rol No : 7\n",
            "Original : [('A', '6'), ('B', '3'), ('C', '7')]\n",
            "According to Name : Ascending :[('A', '6'), ('B', '3'), ('C', '7')]\n"
          ],
          "name": "stdout"
        }
      ]
    },
    {
      "cell_type": "markdown",
      "metadata": {
        "id": "SMOTs4DO-g3G",
        "colab_type": "text"
      },
      "source": [
        "# Write python program to get a list of tuples of Rollno,Name for 5 students through keyboard and sort them by Name wise descending order"
      ]
    },
    {
      "cell_type": "code",
      "metadata": {
        "id": "CKHgq48n-jk2",
        "colab_type": "code",
        "colab": {
          "base_uri": "https://localhost:8080/",
          "height": 156
        },
        "outputId": "851ef665-119a-458a-c29b-8e94d4512255"
      },
      "source": [
        "l = []\n",
        " \n",
        "def inp():\n",
        "  name = input('Name : ')\n",
        "  rolno = input(' Rol No : ')\n",
        "  return (name,rolno)  # returns tuples\n",
        " \n",
        "n = int(input('Number of Students : '))\n",
        "for x in range(n):\n",
        "  l.append(inp())\n",
        " \n",
        "print(f'Original : {l}')\n",
        " \n",
        "l.sort(key = lambda x:x[1])\n",
        "l.sort(key = lambda x:x[0])\n",
        "print(f'According to Name : Descending :{l[::-1]}')"
      ],
      "execution_count": null,
      "outputs": [
        {
          "output_type": "stream",
          "text": [
            "Number of Students : 2 \n",
            "Name : A\n",
            " Rol No : 5\n",
            "Name : B\n",
            " Rol No : 7\n",
            "Original : [('A', '5'), ('B', '7')]\n",
            "According to Name : Descending :[('B', '7'), ('A', '5')]\n"
          ],
          "name": "stdout"
        }
      ]
    }
  ]
}