{
  "nbformat": 4,
  "nbformat_minor": 0,
  "metadata": {
    "colab": {
      "name": "Day 2 session 1 example problems .ipynb",
      "provenance": [],
      "authorship_tag": "ABX9TyOpJM26SKmFQXEfQ0p4O7j4",
      "include_colab_link": true
    },
    "kernelspec": {
      "name": "python3",
      "display_name": "Python 3"
    }
  },
  "cells": [
    {
      "cell_type": "markdown",
      "metadata": {
        "id": "view-in-github",
        "colab_type": "text"
      },
      "source": [
        "<a href=\"https://colab.research.google.com/github/anusha20219/python-workshop-/blob/master/Day_2_session_1_example_problems_.ipynb\" target=\"_parent\"><img src=\"https://colab.research.google.com/assets/colab-badge.svg\" alt=\"Open In Colab\"/></a>"
      ]
    },
    {
      "cell_type": "markdown",
      "metadata": {
        "id": "vZqW1uj3GCYL",
        "colab_type": "text"
      },
      "source": [
        "# Program to find the largest number in a list."
      ]
    },
    {
      "cell_type": "code",
      "metadata": {
        "id": "1619Vv5QGHoP",
        "colab_type": "code",
        "colab": {
          "base_uri": "https://localhost:8080/",
          "height": 102
        },
        "outputId": "8051a7c7-a476-499c-b92b-c6e19350f1c8"
      },
      "source": [
        "a=[]\n",
        "n=int(input(\"Enter number of elements:\"))\n",
        "for i in range(1,n+1):\n",
        "    b=int(input(\"Enter element:\"))\n",
        "    a.append(b)\n",
        "a.sort()\n",
        "print(\"Largest element is:\",a[n-1])"
      ],
      "execution_count": null,
      "outputs": [
        {
          "output_type": "stream",
          "text": [
            "Enter number of elements:3\n",
            "Enter element:6\n",
            "Enter element:3\n",
            "Enter element:4\n",
            "Largest element is: 6\n"
          ],
          "name": "stdout"
        }
      ]
    },
    {
      "cell_type": "markdown",
      "metadata": {
        "id": "mwpmMnlaGY41",
        "colab_type": "text"
      },
      "source": [
        "# Python Program to put the even and odd elements in a list into two different lists."
      ]
    },
    {
      "cell_type": "code",
      "metadata": {
        "id": "NCeSp46lGc2p",
        "colab_type": "code",
        "colab": {
          "base_uri": "https://localhost:8080/",
          "height": 119
        },
        "outputId": "20c79dd5-f948-4496-deff-6448b58d8b30"
      },
      "source": [
        "a=[]\n",
        "n=int(input(\"Enter number of elements:\"))\n",
        "for i in range(1,n+1):\n",
        "    b=int(input(\"Enter element:\"))\n",
        "    a.append(b)\n",
        "even=[]\n",
        "odd=[]\n",
        "for j in a:\n",
        "    if(j%2==0):\n",
        "        even.append(j)\n",
        "    else:\n",
        "        odd.append(j)\n",
        "print(\"The even list\",even)\n",
        "print(\"The odd list\",odd)"
      ],
      "execution_count": null,
      "outputs": [
        {
          "output_type": "stream",
          "text": [
            "Enter number of elements:3\n",
            "Enter element:8\n",
            "Enter element:9\n",
            "Enter element:0\n",
            "The even list [8, 0]\n",
            "The odd list [9]\n"
          ],
          "name": "stdout"
        }
      ]
    },
    {
      "cell_type": "markdown",
      "metadata": {
        "id": "jO7TmdRIGjwv",
        "colab_type": "text"
      },
      "source": [
        "# Python Program to merge two lists and sort it."
      ]
    },
    {
      "cell_type": "code",
      "metadata": {
        "id": "Fwvv5j5sGn9k",
        "colab_type": "code",
        "colab": {
          "base_uri": "https://localhost:8080/",
          "height": 153
        },
        "outputId": "3ac391d8-6c0d-43da-d538-d73223ff6ac4"
      },
      "source": [
        "a=[]\n",
        "c=[]\n",
        "n1=int(input(\"Enter number of elements:\"))\n",
        "for i in range(1,n1+1):\n",
        "    b=int(input(\"Enter element:\"))\n",
        "    a.append(b)\n",
        "n2=int(input(\"Enter number of elements:\"))\n",
        "for i in range(1,n2+1):\n",
        "    d=int(input(\"Enter element:\"))\n",
        "    c.append(d)\n",
        "new=a+c\n",
        "new.sort()\n",
        "print(\"Sorted list is:\",new)"
      ],
      "execution_count": null,
      "outputs": [
        {
          "output_type": "stream",
          "text": [
            "Enter number of elements:3\n",
            "Enter element:3\n",
            "Enter element:2\n",
            "Enter element:1\n",
            "Enter number of elements:2\n",
            "Enter element:8\n",
            "Enter element:9\n",
            "Sorted list is: [1, 2, 3, 8, 9]\n"
          ],
          "name": "stdout"
        }
      ]
    },
    {
      "cell_type": "markdown",
      "metadata": {
        "id": "pk1zLZxqGw7L",
        "colab_type": "text"
      },
      "source": [
        "# Python Program to sort the list according to the second element in the sublist."
      ]
    },
    {
      "cell_type": "code",
      "metadata": {
        "id": "ZG5F-DSiG2DC",
        "colab_type": "code",
        "colab": {
          "base_uri": "https://localhost:8080/",
          "height": 54
        },
        "outputId": "961e07ab-ec17-407b-c4bc-d82182df6560"
      },
      "source": [
        "a=[['A',34],['B',21],['C',26],['E',29]]\n",
        "for i in range(0,len(a)):\n",
        "    for j in range(i+1,len(a)):\n",
        "        if(a[i][1]>a[j][1]):\n",
        "            temp=a[j]\n",
        "            a[j]=a[i]\n",
        "            a[i]=temp\n",
        "print(a)"
      ],
      "execution_count": null,
      "outputs": [
        {
          "output_type": "stream",
          "text": [
            "[['B', 21], ['C', 26], ['E', 29], ['A', 34]]\n"
          ],
          "name": "stdout"
        }
      ]
    },
    {
      "cell_type": "markdown",
      "metadata": {
        "id": "CFfZZr-oG5mv",
        "colab_type": "text"
      },
      "source": [
        "# Python Program to find the second largest number in a list"
      ]
    },
    {
      "cell_type": "code",
      "metadata": {
        "id": "uuEfpzMPG9qA",
        "colab_type": "code",
        "colab": {
          "base_uri": "https://localhost:8080/",
          "height": 102
        },
        "outputId": "a71f5b24-633f-40ad-8d10-a209da379766"
      },
      "source": [
        "a=[]\n",
        "n=int(input(\"Enter number of elements:\"))\n",
        "for i in range(1,n+1):\n",
        "    b=int(input(\"Enter element:\"))\n",
        "    a.append(b)\n",
        "for i in range(0,len(a)):\n",
        "    for j in range(0,len(a)-i-1):\n",
        "        if(a[j]>a[j+1]):\n",
        "            temp=a[j]\n",
        "            a[j]=a[j+1]\n",
        "            a[j+1]=temp \n",
        "print('Second largest number is:',a[n-2])"
      ],
      "execution_count": null,
      "outputs": [
        {
          "output_type": "stream",
          "text": [
            "Enter number of elements:3\n",
            "Enter element:4\n",
            "Enter element:5\n",
            "Enter element:6\n",
            "Second largest number is: 5\n"
          ],
          "name": "stdout"
        }
      ]
    },
    {
      "cell_type": "markdown",
      "metadata": {
        "id": "ZhXCoYy6HD0B",
        "colab_type": "text"
      },
      "source": [
        "# Program to create a list of tuples with the first element as the number and the second element as the square of the number."
      ]
    },
    {
      "cell_type": "code",
      "metadata": {
        "id": "3oAMiF7bHJLl",
        "colab_type": "code",
        "colab": {
          "base_uri": "https://localhost:8080/",
          "height": 88
        },
        "outputId": "bc256b71-83fd-466a-d54e-8d48bfc6f146"
      },
      "source": [
        "l_range=int(input(\"Enter the lower range:\"))\n",
        "u_range=int(input(\"Enter the upper range:\"))\n",
        "a=[(x,x**2) for x in range(l_range,u_range+1)]\n",
        "print(a)"
      ],
      "execution_count": null,
      "outputs": [
        {
          "output_type": "stream",
          "text": [
            "Enter the lower range:2\n",
            "Enter the upper range:9\n",
            "[(2, 4), (3, 9), (4, 16), (5, 25), (6, 36), (7, 49), (8, 64), (9, 81)]\n"
          ],
          "name": "stdout"
        }
      ]
    },
    {
      "cell_type": "markdown",
      "metadata": {
        "id": "Bh9BNExnHNrN",
        "colab_type": "text"
      },
      "source": [
        "# Python Program to generate random numbers from 1 to 20 and append them to the list."
      ]
    },
    {
      "cell_type": "code",
      "metadata": {
        "id": "cj8yPK0YHRfX",
        "colab_type": "code",
        "colab": {
          "base_uri": "https://localhost:8080/",
          "height": 51
        },
        "outputId": "e3baf3d0-cc48-49ab-cd9f-d6d9fb017ae8"
      },
      "source": [
        " \n",
        "import random\n",
        "a=[]\n",
        "n=int(input(\"Enter number of elements:\"))\n",
        "for j in range(n):\n",
        "    a.append(random.randint(1,20))\n",
        "print('Randomised list is: ',a)"
      ],
      "execution_count": null,
      "outputs": [
        {
          "output_type": "stream",
          "text": [
            "Enter number of elements:3\n",
            "Randomised list is:  [20, 3, 1]\n"
          ],
          "name": "stdout"
        }
      ]
    },
    {
      "cell_type": "markdown",
      "metadata": {
        "id": "wP5rc9CiHVZw",
        "colab_type": "text"
      },
      "source": [
        "# Write python program to have a list of words  to sort them from longest to shortest using list of tuples"
      ]
    },
    {
      "cell_type": "code",
      "metadata": {
        "id": "d2OljG70HbDu",
        "colab_type": "code",
        "colab": {
          "base_uri": "https://localhost:8080/",
          "height": 54
        },
        "outputId": "2cdfb276-ae14-466e-e16d-3725604fb9da"
      },
      "source": [
        " \n",
        "txt = 'but soft what light in yonder window breaks'\n",
        "words = txt.split()\n",
        "t = list()\n",
        "for word in words:\n",
        "   t.append((len(word), word))\n",
        "t.sort(reverse=True)\n",
        "res = list()\n",
        "for length, word in t:\n",
        "    res.append(word)\n",
        "print(res)"
      ],
      "execution_count": null,
      "outputs": [
        {
          "output_type": "stream",
          "text": [
            "['yonder', 'window', 'breaks', 'light', 'what', 'soft', 'but', 'in']\n"
          ],
          "name": "stdout"
        }
      ]
    },
    {
      "cell_type": "markdown",
      "metadata": {
        "id": "b_u04eEyHfP9",
        "colab_type": "text"
      },
      "source": [
        "# Python program that assigns variables"
      ]
    },
    {
      "cell_type": "code",
      "metadata": {
        "id": "5q0LjdcDHiQO",
        "colab_type": "code",
        "colab": {
          "base_uri": "https://localhost:8080/",
          "height": 51
        },
        "outputId": "2bdbf642-ee91-46cb-a6d9-80b8ba0bca78"
      },
      "source": [
        "# Create packed tuple.\n",
        "pair = (\"dog\", \"cat\")\n",
        "# Unpack tuple.\n",
        "(key, value) = pair\n",
        "# Display unpacked variables.\n",
        "print(key)\n",
        "print(value)"
      ],
      "execution_count": null,
      "outputs": [
        {
          "output_type": "stream",
          "text": [
            "dog\n",
            "cat\n"
          ],
          "name": "stdout"
        }
      ]
    },
    {
      "cell_type": "markdown",
      "metadata": {
        "id": "SiXsvLl9Hlfj",
        "colab_type": "text"
      },
      "source": [
        "# Python program that searches tuples"
      ]
    },
    {
      "cell_type": "code",
      "metadata": {
        "id": "oOpa-_ruHpng",
        "colab_type": "code",
        "colab": {
          "base_uri": "https://localhost:8080/",
          "height": 51
        },
        "outputId": "cb727180-663c-4c12-f272-4b1c332f90fe"
      },
      "source": [
        "pair = (\"dog\", \"cat\")\n",
        "# Search for a value.\n",
        "if \"cat\" in pair:\n",
        "    print(\"Cat found\")\n",
        "# Search for a value not present.\n",
        "if \"bird\" not in pair:\n",
        "    print(\"Bird not found\")"
      ],
      "execution_count": null,
      "outputs": [
        {
          "output_type": "stream",
          "text": [
            "Cat found\n",
            "Bird not found\n"
          ],
          "name": "stdout"
        }
      ]
    }
  ]
}