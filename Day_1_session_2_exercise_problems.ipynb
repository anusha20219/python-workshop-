{
  "nbformat": 4,
  "nbformat_minor": 0,
  "metadata": {
    "colab": {
      "name": "Day 1 session 2 exercise problems.ipynb ",
      "provenance": [],
      "collapsed_sections": [],
      "authorship_tag": "ABX9TyMSXxcJDLhV1ztiQoyopA/D",
      "include_colab_link": true
    },
    "kernelspec": {
      "name": "python3",
      "display_name": "Python 3"
    }
  },
  "cells": [
    {
      "cell_type": "markdown",
      "metadata": {
        "id": "view-in-github",
        "colab_type": "text"
      },
      "source": [
        "<a href=\"https://colab.research.google.com/github/anusha20219/python-workshop-/blob/master/Day_1_session_2_exercise_problems.ipynb\" target=\"_parent\"><img src=\"https://colab.research.google.com/assets/colab-badge.svg\" alt=\"Open In Colab\"/></a>"
      ]
    },
    {
      "cell_type": "markdown",
      "metadata": {
        "id": "r0HqVjhprCr8",
        "colab_type": "text"
      },
      "source": [
        "# Write a program to print the triangle \n",
        "i/p  4\n",
        "1\n",
        "2    3\n",
        "3    4   5\n",
        "4    5   6   7"
      ]
    },
    {
      "cell_type": "code",
      "metadata": {
        "id": "an2dQuwlrRmP",
        "colab_type": "code",
        "colab": {
          "base_uri": "https://localhost:8080/",
          "height": 85
        },
        "outputId": "967edd1e-d10b-43d3-f001-6bdd6f569ac3"
      },
      "source": [
        "currentNumber = 1\n",
        "rows = 4  # Rows you want in your pattern\n",
        "stop = 1\n",
        "for i in range(rows):\n",
        "    for column in range(1, stop):\n",
        "        print(currentNumber, end=' ')\n",
        "        currentNumber +=1\n",
        "    print(\"\")\n",
        "    stop += 1"
      ],
      "execution_count": null,
      "outputs": [
        {
          "output_type": "stream",
          "text": [
            "\n",
            "1 \n",
            "2 3 \n",
            "4 5 6 \n"
          ],
          "name": "stdout"
        }
      ]
    },
    {
      "cell_type": "markdown",
      "metadata": {
        "id": "7pzBu-ICrWnb",
        "colab_type": "text"
      },
      "source": [
        "# Enter number 4\n",
        "*\n",
        "* *\n",
        "* * *\n",
        "* * * *"
      ]
    },
    {
      "cell_type": "code",
      "metadata": {
        "id": "BUGzajnlrbqp",
        "colab_type": "code",
        "colab": {
          "base_uri": "https://localhost:8080/",
          "height": 85
        },
        "outputId": "c56d5a7d-5292-46fa-b072-19aaf6f8ac67"
      },
      "source": [
        "rows = 4\n",
        "for i in range(0, rows):\n",
        "    for j in range(0, i + 1):\n",
        "        print(\"*\", end=' ')\n",
        " \n",
        "    print(\"\\r\")"
      ],
      "execution_count": null,
      "outputs": [
        {
          "output_type": "stream",
          "text": [
            "* \r\n",
            "* * \r\n",
            "* * * \r\n",
            "* * * * \r\n"
          ],
          "name": "stdout"
        }
      ]
    },
    {
      "cell_type": "code",
      "metadata": {
        "id": "PSbYd2qHriF9",
        "colab_type": "code",
        "colab": {}
      },
      "source": [
        ""
      ],
      "execution_count": null,
      "outputs": []
    },
    {
      "cell_type": "markdown",
      "metadata": {
        "id": "TuZE8Le5riXL",
        "colab_type": "text"
      },
      "source": [
        "# Enter number 5\n",
        "5\n",
        "4 5\n",
        "3 4 5\n",
        "2 3 4 5\n",
        "1 2 3 4 5"
      ]
    },
    {
      "cell_type": "code",
      "metadata": {
        "id": "8EUw-kEXrnMa",
        "colab_type": "code",
        "colab": {
          "base_uri": "https://localhost:8080/",
          "height": 102
        },
        "outputId": "e4f286b4-0045-4bcb-b5ad-b9e2d3ccf599"
      },
      "source": [
        "for i in range(5,0,-1):\n",
        "    for j in range(i,6):\n",
        "        print(j,end='')\n",
        "    print()"
      ],
      "execution_count": null,
      "outputs": [
        {
          "output_type": "stream",
          "text": [
            "5\n",
            "45\n",
            "345\n",
            "2345\n",
            "12345\n"
          ],
          "name": "stdout"
        }
      ]
    },
    {
      "cell_type": "code",
      "metadata": {
        "id": "SkVU1Q1SrqYe",
        "colab_type": "code",
        "colab": {}
      },
      "source": [
        ""
      ],
      "execution_count": null,
      "outputs": []
    },
    {
      "cell_type": "markdown",
      "metadata": {
        "id": "cQXYZSYzrqux",
        "colab_type": "text"
      },
      "source": [
        "# Enter number 5\n",
        "5 4 3 2 1\n",
        "4 3 2 1\n",
        "3 2 1\n",
        "2 1\n",
        "1"
      ]
    },
    {
      "cell_type": "code",
      "metadata": {
        "id": "PVgVqgs8rxvX",
        "colab_type": "code",
        "colab": {
          "base_uri": "https://localhost:8080/",
          "height": 119
        },
        "outputId": "543a7317-5009-427a-cb1e-3d1f537fd780"
      },
      "source": [
        "rows = 5\n",
        "for i in range(0, rows + 1):\n",
        "    for j in range(rows - i, 0, -1):\n",
        "        print(j, end=' ')\n",
        "    print()"
      ],
      "execution_count": null,
      "outputs": [
        {
          "output_type": "stream",
          "text": [
            "5 4 3 2 1 \n",
            "4 3 2 1 \n",
            "3 2 1 \n",
            "2 1 \n",
            "1 \n",
            "\n"
          ],
          "name": "stdout"
        }
      ]
    },
    {
      "cell_type": "code",
      "metadata": {
        "id": "m45nntu0sI3S",
        "colab_type": "code",
        "colab": {}
      },
      "source": [
        ""
      ],
      "execution_count": null,
      "outputs": []
    },
    {
      "cell_type": "markdown",
      "metadata": {
        "id": "MeNyMUNlsJJJ",
        "colab_type": "text"
      },
      "source": [
        "# Find the length of a string without using len functions"
      ]
    },
    {
      "cell_type": "code",
      "metadata": {
        "id": "G3M5Etx_sNjH",
        "colab_type": "code",
        "colab": {
          "base_uri": "https://localhost:8080/",
          "height": 34
        },
        "outputId": "246e7aba-eceb-4881-f753-23e6f65eeb7c"
      },
      "source": [
        "def findLength(string): \n",
        " \n",
        "  \n",
        " \n",
        "    # Initialize count to zero \n",
        " \n",
        "    count = 0\n",
        " \n",
        "  \n",
        " \n",
        "    # Counting character in a string \n",
        " \n",
        "    for i in string: \n",
        " \n",
        "        count+= 1\n",
        " \n",
        "    # Returning count \n",
        " \n",
        "    return count \n",
        " \n",
        "  \n",
        "# Driver code \n",
        " \n",
        "string = \"python\"\n",
        " \n",
        "print(findLength(string))"
      ],
      "execution_count": null,
      "outputs": [
        {
          "output_type": "stream",
          "text": [
            "6\n"
          ],
          "name": "stdout"
        }
      ]
    },
    {
      "cell_type": "markdown",
      "metadata": {
        "id": "Foe0P2Josc9v",
        "colab_type": "text"
      },
      "source": [
        "# Find the no of words and characters in a string"
      ]
    },
    {
      "cell_type": "code",
      "metadata": {
        "id": "Q8M0zx5MsxcZ",
        "colab_type": "code",
        "colab": {
          "base_uri": "https://localhost:8080/",
          "height": 68
        },
        "outputId": "80637b40-3f23-4e60-e587-720e45867211"
      },
      "source": [
        " \n",
        "word_count = 0\n",
        "char_count = 0\n",
        " \n",
        "#2\n",
        "usr_input = input(\"Enter a string : \")\n",
        " \n",
        "#3\n",
        "split_string = usr_input.split()\n",
        " \n",
        "#4\n",
        "word_count = len(split_string)\n",
        " \n",
        "#5\n",
        "for word in split_string:\n",
        "    #6\n",
        "    char_count += len(word)\n",
        " \n",
        "#7\n",
        "print(\"Total words : {}\".format(word_count))\n",
        "print(\"Total characters : {}\".format(char_count))"
      ],
      "execution_count": null,
      "outputs": [
        {
          "output_type": "stream",
          "text": [
            "Enter a string : Python\n",
            "Total words : 1\n",
            "Total characters : 6\n"
          ],
          "name": "stdout"
        }
      ]
    },
    {
      "cell_type": "markdown",
      "metadata": {
        "id": "h8oVWTJEs6lu",
        "colab_type": "text"
      },
      "source": [
        "# Find the no of occurrences of a word in a string"
      ]
    },
    {
      "cell_type": "code",
      "metadata": {
        "id": "Fh_jcMAntAum",
        "colab_type": "code",
        "colab": {
          "base_uri": "https://localhost:8080/",
          "height": 34
        },
        "outputId": "62704622-58ee-4a68-ef13-bc5139cc1c13"
      },
      "source": [
        "def countOccurences(str, word): \n",
        " \n",
        "      \n",
        " \n",
        "    # split the string by spaces in a \n",
        " \n",
        "    a = str.split(\" \") \n",
        " \n",
        "  \n",
        " \n",
        "    # search for pattern in a \n",
        " \n",
        "    count = 0\n",
        " \n",
        "    for i in range(0, len(a)): \n",
        " \n",
        "          \n",
        " \n",
        "        # if match found increase count  \n",
        " \n",
        "        if (word == a[i]): \n",
        " \n",
        "           count = count + 1\n",
        " \n",
        "             \n",
        " \n",
        "    return count        \n",
        " \n",
        "  \n",
        "# Driver code \n",
        " \n",
        "str =\"GeeksforGeeks A computer science portal for geeks  \"\n",
        " \n",
        "word =\"portal\"\n",
        " \n",
        "print(countOccurences(str, word))"
      ],
      "execution_count": null,
      "outputs": [
        {
          "output_type": "stream",
          "text": [
            "1\n"
          ],
          "name": "stdout"
        }
      ]
    }
  ]
}