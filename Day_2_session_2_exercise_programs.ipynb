{
  "nbformat": 4,
  "nbformat_minor": 0,
  "metadata": {
    "colab": {
      "name": "Day 2 session 2 exercise programs.ipynb",
      "provenance": [],
      "collapsed_sections": [],
      "toc_visible": true,
      "authorship_tag": "ABX9TyPKzRu2uJij8qp077tB3/0q",
      "include_colab_link": true
    },
    "kernelspec": {
      "name": "python3",
      "display_name": "Python 3"
    }
  },
  "cells": [
    {
      "cell_type": "markdown",
      "metadata": {
        "id": "view-in-github",
        "colab_type": "text"
      },
      "source": [
        "<a href=\"https://colab.research.google.com/github/anusha20219/python-workshop-/blob/master/Day_2_session_2_exercise_programs.ipynb\" target=\"_parent\"><img src=\"https://colab.research.google.com/assets/colab-badge.svg\" alt=\"Open In Colab\"/></a>"
      ]
    },
    {
      "cell_type": "markdown",
      "metadata": {
        "id": "yujdmrPnR7AD",
        "colab_type": "text"
      },
      "source": [
        "# Python Program to count the total number of charaters (except blank space) in a text file."
      ]
    },
    {
      "cell_type": "code",
      "metadata": {
        "id": "5XXwZiIGXNhK",
        "colab_type": "code",
        "colab": {}
      },
      "source": [
        "#open file in read mode\n",
        "file = open(\"/content/sample data/file.txt\", \"r\")\n",
        " \n",
        "#read the content of file\n",
        "data = file.read()\n",
        " \n",
        "#get the length of the data\n",
        "number_of_characters = len(data)\n",
        " \n",
        "print('Number of characters in text file :', number_of_characters)"
      ],
      "execution_count": null,
      "outputs": []
    },
    {
      "cell_type": "markdown",
      "metadata": {
        "id": "MlJpUbCqSo0E",
        "colab_type": "text"
      },
      "source": [
        "# Python Program to print all the numbers present in a text file with its total number of occurrence."
      ]
    },
    {
      "cell_type": "code",
      "metadata": {
        "id": "2ZgBgCVxTCxs",
        "colab_type": "code",
        "colab": {
          "base_uri": "https://localhost:8080/",
          "height": 90
        },
        "outputId": "e9399435-e974-4b91-8194-23b8a4af0d63"
      },
      "source": [
        "fname = input(\"Enter file name: \")\n",
        "l=input(\"Enter letter to be searched:\")\n",
        "k = 0\n",
        " \n",
        "with open(fname, 'r') as f:\n",
        "    for line in f:\n",
        "        words = line.split()\n",
        "        for i in words:\n",
        "            for letter in i:\n",
        "                if(letter==l):\n",
        "                    k=k+1\n",
        "print(\"Occurrences of the letter:\")\n",
        "print(k)"
      ],
      "execution_count": null,
      "outputs": [
        {
          "output_type": "stream",
          "text": [
            "Enter file name: /content/sample_data/file.txt\n",
            "Enter letter to be searched:g\n",
            "Occurrences of the letter:\n",
            "5\n"
          ],
          "name": "stdout"
        }
      ]
    },
    {
      "cell_type": "markdown",
      "metadata": {
        "id": "Yf-0TkyiTFu-",
        "colab_type": "text"
      },
      "source": [
        "# Python Program to append the contents of one file to another file"
      ]
    },
    {
      "cell_type": "code",
      "metadata": {
        "id": "RLZkxhtNTKHy",
        "colab_type": "code",
        "colab": {
          "base_uri": "https://localhost:8080/",
          "height": 54
        },
        "outputId": "27195217-874f-47ef-8988-339f1f859070"
      },
      "source": [
        "name1 = input(\"Enter file to be read from: \")\n",
        "name2 = input(\"Enter file to be appended to: \")\n",
        "fin = open(name1, \"r\")\n",
        "data2 = fin.read()\n",
        "fin.close()\n",
        "fout = open(name2, \"a\")\n",
        "fout.write(data2)\n",
        "fout.close()"
      ],
      "execution_count": null,
      "outputs": [
        {
          "output_type": "stream",
          "text": [
            "Enter file to be read from: /content/sample_data/file.txt\n",
            "Enter file to be appended to: /content/sample_data/file2.txt\n"
          ],
          "name": "stdout"
        }
      ]
    },
    {
      "cell_type": "markdown",
      "metadata": {
        "id": "ykBR2tTZTQUP",
        "colab_type": "text"
      },
      "source": [
        "# Python Program to count the number of blank spaces in a text file."
      ]
    },
    {
      "cell_type": "code",
      "metadata": {
        "id": "r4P87vUEW9pM",
        "colab_type": "code",
        "colab": {}
      },
      "source": [
        "fname = input(\"Enter file name: \")\n",
        "k = 0\n",
        " \n",
        "with open(fname, 'r') as f:\n",
        "    for line in f:\n",
        "        words = line.split()\n",
        "        for i in words:\n",
        "            for letter in i:\n",
        "                if(letter.isspace):\n",
        "                    k=k+1\n",
        "print(\"Occurrences of blank spaces:\")\n",
        "print(k)"
      ],
      "execution_count": null,
      "outputs": []
    },
    {
      "cell_type": "markdown",
      "metadata": {
        "id": "IcxAjhpXTb7S",
        "colab_type": "text"
      },
      "source": [
        "# Python Program to read a file and capitalize the first letter of every word in the file and copy the every word capitalized content  into another file and read it ."
      ]
    },
    {
      "cell_type": "code",
      "metadata": {
        "id": "brSsgWq3TfhZ",
        "colab_type": "code",
        "colab": {
          "base_uri": "https://localhost:8080/",
          "height": 54
        },
        "outputId": "50ade4e4-a63e-4d5d-ec6d-5f8e001cfa31"
      },
      "source": [
        "fname = input(\"Enter file name: \")\n",
        " \n",
        "with open(fname, 'r') as f:\n",
        "    for line in f:\n",
        "        l=line.title()\n",
        "        print(l)"
      ],
      "execution_count": null,
      "outputs": [
        {
          "output_type": "stream",
          "text": [
            "Enter file name: /content/sample_data/file.txt\n",
            "Ggggg\n"
          ],
          "name": "stdout"
        }
      ]
    },
    {
      "cell_type": "markdown",
      "metadata": {
        "id": "pSpBcN8jTq0B",
        "colab_type": "text"
      },
      "source": [
        "# Python program to convert a 3 digit number  into words"
      ]
    },
    {
      "cell_type": "code",
      "metadata": {
        "id": "U8mBzxZeTsU_",
        "colab_type": "code",
        "colab": {
          "base_uri": "https://localhost:8080/",
          "height": 34
        },
        "outputId": "7b9506a0-8813-47cd-f765-60914ab02861"
      },
      "source": [
        "def printValue(digit): \n",
        " \n",
        "  \n",
        " \n",
        "    # Switch block to check for each digit c \n",
        " \n",
        "  \n",
        " \n",
        "    # For digit 0 \n",
        " \n",
        "    if digit == '0': \n",
        " \n",
        "        print(\"Zero \", end = \" \") \n",
        " \n",
        "  \n",
        " \n",
        "    # For digit 1 \n",
        " \n",
        "    elif digit == '1': \n",
        " \n",
        "        print(\"One \", end = \" \") \n",
        " \n",
        "  \n",
        " \n",
        "    # For digit 2 \n",
        " \n",
        "    elif digit == '2': \n",
        " \n",
        "        print(\"Two \", end = \" \") \n",
        " \n",
        "  \n",
        " \n",
        "    #For digit 3 \n",
        " \n",
        "    elif digit=='3': \n",
        " \n",
        "        print(\"Three\",end=\" \") \n",
        " \n",
        "  \n",
        " \n",
        "    # For digit 4 \n",
        " \n",
        "    elif digit == '4': \n",
        " \n",
        "        print(\"Four \", end = \" \") \n",
        " \n",
        "  \n",
        " \n",
        "    # For digit 5 \n",
        " \n",
        "    elif digit == '5': \n",
        " \n",
        "        print(\"Five \", end = \" \") \n",
        " \n",
        "  \n",
        " \n",
        "    # For digit 6 \n",
        " \n",
        "    elif digit == '6': \n",
        " \n",
        "        print(\"Six \", end = \" \") \n",
        " \n",
        "  \n",
        " \n",
        "    # For digit 7 \n",
        " \n",
        "    elif digit == '7': \n",
        " \n",
        "        print(\"Seven\", end = \" \") \n",
        " \n",
        "  \n",
        " \n",
        "    # For digit 8 \n",
        " \n",
        "    elif digit == '8': \n",
        " \n",
        "        print(\"Eight\", end = \" \") \n",
        " \n",
        "  \n",
        " \n",
        "    # For digit 9 \n",
        " \n",
        "    elif digit == '9': \n",
        " \n",
        "        print(\"Nine \", end = \" \") \n",
        " \n",
        "  \n",
        "# Function to iterate through every \n",
        "# digit in the given number \n",
        " \n",
        "def printWord(N): \n",
        " \n",
        "    i = 0\n",
        " \n",
        "    length = len(N) \n",
        " \n",
        "  \n",
        " \n",
        "    # Finding each digit of the number \n",
        " \n",
        "    while i < length: \n",
        " \n",
        "          \n",
        " \n",
        "        # Print the digit in words \n",
        " \n",
        "        printValue(N[i]) \n",
        " \n",
        "        i += 1\n",
        " \n",
        "  \n",
        "# Driver code \n",
        " \n",
        "N = \"123\"\n",
        "printWord(N)"
      ],
      "execution_count": null,
      "outputs": [
        {
          "output_type": "stream",
          "text": [
            "One  Two  Three "
          ],
          "name": "stdout"
        }
      ]
    },
    {
      "cell_type": "markdown",
      "metadata": {
        "id": "5cpB9o1fT8Gw",
        "colab_type": "text"
      },
      "source": [
        ""
      ]
    }
  ]
}